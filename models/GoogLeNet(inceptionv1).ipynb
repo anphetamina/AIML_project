{
  "nbformat": 4,
  "nbformat_minor": 0,
  "metadata": {
    "colab": {
      "name": "GoogLeNet(inceptionv1).ipynb",
      "provenance": [],
      "collapsed_sections": []
    },
    "kernelspec": {
      "name": "python3",
      "display_name": "Python 3"
    },
    "accelerator": "GPU"
  },
  "cells": [
    {
      "cell_type": "markdown",
      "metadata": {
        "colab_type": "text",
        "id": "MbtUcKfE_I4g"
      },
      "source": [
        "**Installs**"
      ]
    },
    {
      "cell_type": "code",
      "metadata": {
        "colab_type": "code",
        "id": "tzg4cO9xLvUG",
        "trusted": false,
        "outputId": "987c6f27-4dbd-45a6-b46b-c1e72b8be31f",
        "colab": {
          "base_uri": "https://localhost:8080/",
          "height": 676
        }
      },
      "source": [
        "!pip3 install 'torch==1.3.1'\n",
        "!pip3 install 'torchvision==0.5.0'\n",
        "!pip3 install 'Pillow-SIMD'\n",
        "!pip3 install 'tqdm'"
      ],
      "execution_count": 1,
      "outputs": [
        {
          "output_type": "stream",
          "text": [
            "Collecting torch==1.3.1\n",
            "\u001b[?25l  Downloading https://files.pythonhosted.org/packages/88/95/90e8c4c31cfc67248bf944ba42029295b77159982f532c5689bcfe4e9108/torch-1.3.1-cp36-cp36m-manylinux1_x86_64.whl (734.6MB)\n",
            "\u001b[K     |████████████████████████████████| 734.6MB 14kB/s \n",
            "\u001b[?25hRequirement already satisfied: numpy in /usr/local/lib/python3.6/dist-packages (from torch==1.3.1) (1.17.5)\n",
            "\u001b[31mERROR: torchvision 0.5.0 has requirement torch==1.4.0, but you'll have torch 1.3.1 which is incompatible.\u001b[0m\n",
            "Installing collected packages: torch\n",
            "  Found existing installation: torch 1.4.0\n",
            "    Uninstalling torch-1.4.0:\n",
            "      Successfully uninstalled torch-1.4.0\n",
            "Successfully installed torch-1.3.1\n",
            "Requirement already satisfied: torchvision==0.5.0 in /usr/local/lib/python3.6/dist-packages (0.5.0)\n",
            "Requirement already satisfied: six in /usr/local/lib/python3.6/dist-packages (from torchvision==0.5.0) (1.12.0)\n",
            "Collecting torch==1.4.0\n",
            "\u001b[?25l  Downloading https://files.pythonhosted.org/packages/24/19/4804aea17cd136f1705a5e98a00618cb8f6ccc375ad8bfa437408e09d058/torch-1.4.0-cp36-cp36m-manylinux1_x86_64.whl (753.4MB)\n",
            "\u001b[K     |████████████████████████████████| 753.4MB 14kB/s \n",
            "\u001b[?25hRequirement already satisfied: numpy in /usr/local/lib/python3.6/dist-packages (from torchvision==0.5.0) (1.17.5)\n",
            "Requirement already satisfied: pillow>=4.1.1 in /usr/local/lib/python3.6/dist-packages (from torchvision==0.5.0) (6.2.2)\n",
            "Installing collected packages: torch\n",
            "  Found existing installation: torch 1.3.1\n",
            "    Uninstalling torch-1.3.1:\n",
            "      Successfully uninstalled torch-1.3.1\n",
            "Successfully installed torch-1.4.0\n",
            "Collecting Pillow-SIMD\n",
            "\u001b[?25l  Downloading https://files.pythonhosted.org/packages/a0/6a/30d21c886293cca3755b8e55de34137a5068b77eba1c0644d3632080516b/Pillow-SIMD-7.0.0.post3.tar.gz (630kB)\n",
            "\u001b[K     |████████████████████████████████| 634kB 3.3MB/s \n",
            "\u001b[?25hBuilding wheels for collected packages: Pillow-SIMD\n",
            "  Building wheel for Pillow-SIMD (setup.py) ... \u001b[?25l\u001b[?25hdone\n",
            "  Created wheel for Pillow-SIMD: filename=Pillow_SIMD-7.0.0.post3-cp36-cp36m-linux_x86_64.whl size=1110545 sha256=2606c119dfe49931d35008c100244b0ac57be3ac5e74f9bfec6b1c9501725587\n",
            "  Stored in directory: /root/.cache/pip/wheels/d3/ac/4f/4cdf8febba528e5f1b09fc58d5181e1c12ed1e8655dcd583b8\n",
            "Successfully built Pillow-SIMD\n",
            "Installing collected packages: Pillow-SIMD\n",
            "Successfully installed Pillow-SIMD-7.0.0.post3\n"
          ],
          "name": "stdout"
        },
        {
          "output_type": "display_data",
          "data": {
            "application/vnd.colab-display-data+json": {
              "pip_warning": {
                "packages": [
                  "PIL"
                ]
              }
            }
          },
          "metadata": {
            "tags": []
          }
        },
        {
          "output_type": "stream",
          "text": [
            "Requirement already satisfied: tqdm in /usr/local/lib/python3.6/dist-packages (4.28.1)\n"
          ],
          "name": "stdout"
        }
      ]
    },
    {
      "cell_type": "markdown",
      "metadata": {
        "colab_type": "text",
        "id": "fxs_3zcG_NZd"
      },
      "source": [
        "**Imports**"
      ]
    },
    {
      "cell_type": "code",
      "metadata": {
        "colab_type": "code",
        "id": "C7N0hU-VLx8W",
        "trusted": true,
        "colab": {}
      },
      "source": [
        "import os\n",
        "import logging\n",
        "\n",
        "import torch\n",
        "import torch.nn as nn\n",
        "import torch.optim as optim\n",
        "from torch.utils.data import Subset, DataLoader\n",
        "from torch.backends import cudnn\n",
        "\n",
        "import torchvision\n",
        "from torchvision import transforms\n",
        "from torchvision.models import googlenet\n",
        "\n",
        "\n",
        "from PIL import Image\n",
        "from tqdm import tqdm\n",
        "\n",
        "import numpy as np\n",
        "import matplotlib.pyplot as plt\n",
        "import copy\n",
        "\n",
        "#NUM_CLASSES = 102\n",
        "NUM_CLASSES = 6\n",
        "DEVICE = 'cuda'\n",
        "MOMENTUM = 0.9"
      ],
      "execution_count": 0,
      "outputs": []
    },
    {
      "cell_type": "markdown",
      "metadata": {
        "colab_type": "text",
        "id": "uvABcepY_Vfe"
      },
      "source": [
        "**Model definition**"
      ]
    },
    {
      "cell_type": "code",
      "metadata": {
        "colab_type": "code",
        "id": "vztVCv3fQXjR",
        "trusted": true,
        "colab": {}
      },
      "source": [
        "def get_datasets(train_data_dir, test_data_dir, compose=[#transforms.Resize(224),\n",
        "                                                         transforms.CenterCrop(224),\n",
        "                                                         transforms.ToTensor()#,\n",
        "                                                         #transforms.Normalize((75.29522728, 26.30439561, 70.34910019), (80.67869619, 35.54419227, 54.88938911))\n",
        "                                                         ]):\n",
        "    train_transform = transforms.Compose(compose)\n",
        "    eval_transform = transforms.Compose([\n",
        "          #transforms.Resize(224),\n",
        "          transforms.CenterCrop(224),\n",
        "          transforms.ToTensor()\n",
        "          ])\n",
        "\n",
        "\n",
        "    if not os.path.isdir('./AIML_project'):\n",
        "        !git clone https://github.com/anphetamina/AIML_project.git\n",
        "    \n",
        "    train_dataset = torchvision.datasets.ImageFolder(train_data_dir, transform=train_transform)\n",
        "    test_dataset = torchvision.datasets.ImageFolder(test_data_dir, transform=eval_transform)\n",
        "\n",
        "    return train_dataset, test_dataset\n",
        "\n",
        "def test_network(net, test_dataset, batch_size):\n",
        "    test_dataloader = DataLoader(test_dataset, batch_size=batch_size, shuffle=True, num_workers=4)\n",
        "    net.train(False)\n",
        "\n",
        "    criterion = nn.CrossEntropyLoss()\n",
        "\n",
        "    sum_test_losses = 0.0\n",
        "    running_corrects = 0\n",
        "    for images, labels in test_dataloader:\n",
        "      images = images.to(DEVICE)\n",
        "      labels = labels.to(DEVICE)\n",
        "\n",
        "      # Forward Pass\n",
        "      outputs = net(images)\n",
        "      if (hasattr(outputs, 'logits')):\n",
        "        outputs = outputs.logits\n",
        "\n",
        "      # Get predictions\n",
        "      _, preds = torch.max(outputs, 1)\n",
        "      test_loss = criterion(outputs, labels)\n",
        "      sum_test_losses += test_loss.item()*images.size(0)\n",
        "\n",
        "      # Update Corrects\n",
        "      running_corrects += torch.sum(preds == labels.data).data.item()\n",
        "\n",
        "    # Calculate Accuracy\n",
        "    accuracy = running_corrects / float(len(test_dataset))\n",
        "\n",
        "    # Calculate loss\n",
        "    test_loss = sum_test_losses / float(len(test_dataset))\n",
        "\n",
        "    return accuracy, test_loss\n",
        "\n",
        "def train_network(net, parameters_to_optimize, learning_rate, num_epochs, batch_size, weight_decay, step_size, gamma, train_dataset, val_dataset=None, verbosity=False, plot=False):\n",
        "  \n",
        "    train_dataloader = DataLoader(train_dataset, batch_size=batch_size, shuffle=True, num_workers=4, drop_last=False)\n",
        "    criterion = nn.CrossEntropyLoss()\n",
        "    optimizer = optim.SGD(parameters_to_optimize, lr=learning_rate, momentum=MOMENTUM, weight_decay=weight_decay)\n",
        "    scheduler = optim.lr_scheduler.StepLR(optimizer, step_size=step_size, gamma=gamma)\n",
        "\n",
        "    net = net.to(DEVICE)\n",
        "    best_net = googlenet()\n",
        "    best_net = best_net.to(DEVICE)\n",
        "    #best_net.classifier[6] = nn.Linear(4096, NUM_CLASSES)\n",
        "\n",
        "    cudnn.benchmark\n",
        "\n",
        "    train_accuracies = []\n",
        "    train_losses = []\n",
        "    val_accuracies = []\n",
        "    val_losses = []\n",
        "\n",
        "    current_step = 0\n",
        "    best_val_accuracy = 0.0\n",
        "    best_val_loss = 0.0\n",
        "    for epoch in range(num_epochs):\n",
        "\n",
        "        train_running_corrects = 0\n",
        "        sum_train_losses = 0.0\n",
        "\n",
        "        for images, labels in train_dataloader:\n",
        "            images = images.to(DEVICE)\n",
        "            labels = labels.to(DEVICE)\n",
        "            net.train()\n",
        "            optimizer.zero_grad()\n",
        "\n",
        "            outputs = net(images)\n",
        "            if (hasattr(outputs, 'logits')):\n",
        "              outputs = outputs.logits\n",
        "            \n",
        "            _, preds = torch.max(outputs, 1)\n",
        "            train_running_corrects += torch.sum(preds == labels.data).data.item()\n",
        "            loss = criterion(outputs, labels)\n",
        "            sum_train_losses += loss.item()*images.size(0)\n",
        "            loss.backward()\n",
        "\n",
        "            optimizer.step()\n",
        "            current_step += 1\n",
        "        \n",
        "        if val_dataset is not None:\n",
        "            val_accuracy, val_loss = test_network(net, val_dataset, batch_size)\n",
        "            if val_accuracy > best_val_accuracy:\n",
        "                best_val_accuracy = val_accuracy\n",
        "                best_val_loss = val_loss\n",
        "                best_net.load_state_dict(net.state_dict())\n",
        "            val_accuracies.append(val_accuracy)\n",
        "            val_losses.append(val_loss)\n",
        "\n",
        "        # Calculate accuracy on train set\n",
        "        train_accuracy = train_running_corrects / float(len(train_dataset))\n",
        "        train_accuracies.append(train_accuracy)\n",
        "\n",
        "        # Calculate loss on training set\n",
        "        train_loss = sum_train_losses/float(len(train_dataset))\n",
        "        train_losses.append(loss)\n",
        "\n",
        "        if verbosity:\n",
        "            if val_dataset is not None:\n",
        "                print(\"train_acc: {}, val_acc: {}, train_loss: {}, val_loss: {} ({} / {})\".format(train_accuracy, val_accuracy, train_loss, val_loss, epoch+1, num_epochs))\n",
        "            else:\n",
        "                print(\"train_acc: {}, train_loss: {} ({} / {})\".format(train_accuracy, train_loss, epoch+1, num_epochs))\n",
        "\n",
        "        scheduler.step()\n",
        "\n",
        "    if plot:\n",
        "\n",
        "        fig, ax = plt.subplots()\n",
        "        line1, = ax.plot(train_losses, label='Loss on training set')\n",
        "        line2, = ax.plot(train_accuracies, label='Accuracy on training set')\n",
        "        ax.legend()\n",
        "        plt.xlabel(\"Epochs\")\n",
        "        plt.show()\n",
        "\n",
        "        if val_dataset is not None:\n",
        "            fig, ax = plt.subplots()\n",
        "            line1, = ax.plot(val_accuracies, label='Accuracy on validation set', color='C2')\n",
        "            line2, = ax.plot(train_accuracies, label='Accuracy on training set', color='C3')\n",
        "            ax.legend()\n",
        "            plt.xlabel(\"Epochs\")\n",
        "            plt.show()\n",
        "        \n",
        "            fig, ax = plt.subplots()\n",
        "            line1, = ax.plot(val_losses, label='Loss on validation set', color='C1')\n",
        "            line2, = ax.plot(train_losses, label='Loss on training set', color='C7')\n",
        "            ax.legend()\n",
        "            plt.xlabel(\"Epochs\")\n",
        "            plt.show()\n",
        "\n",
        "    \n",
        "    return best_net, best_val_accuracy, best_val_loss\n"
      ],
      "execution_count": 0,
      "outputs": []
    },
    {
      "cell_type": "markdown",
      "metadata": {
        "colab_type": "text",
        "id": "I6fTm2sD_BOt"
      },
      "source": [
        "**Train + validation**"
      ]
    },
    {
      "cell_type": "code",
      "metadata": {
        "colab_type": "code",
        "id": "XtBXC1cO_A6A",
        "outputId": "8aa97593-188b-46fd-9b10-7e68244e070d",
        "trusted": false,
        "colab": {
          "base_uri": "https://localhost:8080/",
          "height": 1000
        }
      },
      "source": [
        "BATCH_SIZE = 8\n",
        "LR = 0.0001\n",
        "MOMENTUM = 0.9\n",
        "WEIGHT_DECAY = 5e-5 #was e-5\n",
        "NUM_EPOCHS = 100\n",
        "STEP_SIZE = 60 #was 60\n",
        "GAMMA = 0.1 #was 0.08\n",
        "\n",
        "TRAIN_DATA_DIR = 'AIML_project/ravdess-emotional-song-spec-224'\n",
        "#TRAIN_DATA_DIR = 'Homework2-Caltech101/101_ObjectCategories'\n",
        "compose=[#transforms.Resize(224),\n",
        "         transforms.CenterCrop(224),\n",
        "         transforms.RandomGrayscale(),\n",
        "         transforms.ColorJitter(brightness=0.5, contrast=0.5),\n",
        "         transforms.ToTensor()\n",
        "         ]\n",
        "train_dataset, val_dataset = get_datasets(TRAIN_DATA_DIR, TRAIN_DATA_DIR, compose)\n",
        "train_indexes = [idx for idx in range(len(train_dataset)) if idx % 10]\n",
        "val_indexes = [idx for idx in range(len(train_dataset)) if not idx % 10]\n",
        "val_dataset = Subset(val_dataset, val_indexes)\n",
        "train_dataset = Subset(train_dataset, train_indexes)\n",
        "print('training set {}'.format(len(train_dataset)))\n",
        "print('validation set {}'.format(len(val_dataset)))\n",
        "\n",
        "net = googlenet()\n",
        "#net.classifier[6] = nn.Linear(4096, NUM_CLASSES)\n",
        "best_net, val_accuracy, val_loss = train_network(net, net.parameters(), LR, NUM_EPOCHS, BATCH_SIZE, WEIGHT_DECAY, STEP_SIZE, GAMMA, train_dataset, val_dataset=val_dataset, verbosity=True, plot=True)\n",
        "\n",
        "print('val accuracy {}'.format(val_accuracy))\n",
        "print('val loss {}'.format(val_loss))"
      ],
      "execution_count": 9,
      "outputs": [
        {
          "output_type": "stream",
          "text": [
            "training set 910\n",
            "validation set 102\n",
            "train_acc: 0.1956043956043956, val_acc: 0.22549019607843138, train_loss: 5.737951856131082, val_loss: 4.086929209092084 (1 / 100)\n",
            "train_acc: 0.27692307692307694, val_acc: 0.3235294117647059, train_loss: 3.182013045824491, val_loss: 2.316683900122549 (2 / 100)\n",
            "train_acc: 0.33186813186813185, val_acc: 0.3627450980392157, train_loss: 2.0602012152200215, val_loss: 1.7823754946390789 (3 / 100)\n",
            "train_acc: 0.35604395604395606, val_acc: 0.4117647058823529, train_loss: 1.7589265039988926, val_loss: 1.5784294932496314 (4 / 100)\n",
            "train_acc: 0.37032967032967035, val_acc: 0.38235294117647056, train_loss: 1.6043960636788672, val_loss: 1.554998797528884 (5 / 100)\n",
            "train_acc: 0.3967032967032967, val_acc: 0.23529411764705882, train_loss: 1.5172669979242177, val_loss: 2.0342542096680285 (6 / 100)\n",
            "train_acc: 0.4021978021978022, val_acc: 0.43137254901960786, train_loss: 1.4933238388417842, val_loss: 1.3541285734550625 (7 / 100)\n",
            "train_acc: 0.4197802197802198, val_acc: 0.3431372549019608, train_loss: 1.4119459930357041, val_loss: 1.5677009213204478 (8 / 100)\n",
            "train_acc: 0.45494505494505494, val_acc: 0.22549019607843138, train_loss: 1.3693250239550412, val_loss: 2.1710620814678716 (9 / 100)\n",
            "train_acc: 0.4824175824175824, val_acc: 0.5, train_loss: 1.2954033068248203, val_loss: 1.198807445226931 (10 / 100)\n",
            "train_acc: 0.4945054945054945, val_acc: 0.4803921568627451, train_loss: 1.2928120961556069, val_loss: 1.1761092485166063 (11 / 100)\n",
            "train_acc: 0.5010989010989011, val_acc: 0.4411764705882353, train_loss: 1.2279386088088318, val_loss: 1.3278408120660221 (12 / 100)\n",
            "train_acc: 0.5428571428571428, val_acc: 0.4803921568627451, train_loss: 1.2111547585372087, val_loss: 1.1599371690376132 (13 / 100)\n",
            "train_acc: 0.5461538461538461, val_acc: 0.47058823529411764, train_loss: 1.1448150393727061, val_loss: 1.218863141302969 (14 / 100)\n",
            "train_acc: 0.5483516483516484, val_acc: 0.28431372549019607, train_loss: 1.1172547137344278, val_loss: 1.9841837345385085 (15 / 100)\n",
            "train_acc: 0.5582417582417583, val_acc: 0.45098039215686275, train_loss: 1.1022344790972196, val_loss: 1.5395772796051175 (16 / 100)\n",
            "train_acc: 0.5725274725274725, val_acc: 0.5196078431372549, train_loss: 1.081654335640289, val_loss: 1.1211116173688103 (17 / 100)\n",
            "train_acc: 0.6, val_acc: 0.45098039215686275, train_loss: 1.0287428627957353, val_loss: 1.1855282310177298 (18 / 100)\n",
            "train_acc: 0.6483516483516484, val_acc: 0.5196078431372549, train_loss: 0.9702984060559954, val_loss: 1.1030945988262402 (19 / 100)\n",
            "train_acc: 0.6681318681318681, val_acc: 0.5392156862745098, train_loss: 0.8782011554791377, val_loss: 1.0488938724293428 (20 / 100)\n",
            "train_acc: 0.6593406593406593, val_acc: 0.46078431372549017, train_loss: 0.9072838567115449, val_loss: 1.3693206357020957 (21 / 100)\n",
            "train_acc: 0.6714285714285714, val_acc: 0.5980392156862745, train_loss: 0.871539640033638, val_loss: 0.9710594205295339 (22 / 100)\n",
            "train_acc: 0.7043956043956044, val_acc: 0.5588235294117647, train_loss: 0.7978050881689721, val_loss: 1.2931516404245413 (23 / 100)\n",
            "train_acc: 0.7274725274725274, val_acc: 0.6470588235294118, train_loss: 0.7529310711137541, val_loss: 0.8343410877620473 (24 / 100)\n",
            "train_acc: 0.7362637362637363, val_acc: 0.4019607843137255, train_loss: 0.7666080051726037, val_loss: 1.8150025512657912 (25 / 100)\n",
            "train_acc: 0.7373626373626374, val_acc: 0.5392156862745098, train_loss: 0.7050868218416696, val_loss: 1.332322913057664 (26 / 100)\n",
            "train_acc: 0.7549450549450549, val_acc: 0.49019607843137253, train_loss: 0.6802927036861797, val_loss: 1.3090239038654403 (27 / 100)\n",
            "train_acc: 0.7967032967032966, val_acc: 0.6274509803921569, train_loss: 0.6200889452473148, val_loss: 1.090179107352799 (28 / 100)\n",
            "train_acc: 0.7846153846153846, val_acc: 0.6078431372549019, train_loss: 0.6433501990286858, val_loss: 1.005812798644982 (29 / 100)\n",
            "train_acc: 0.8054945054945055, val_acc: 0.6274509803921569, train_loss: 0.5598884687318907, val_loss: 0.8035523447335935 (30 / 100)\n",
            "train_acc: 0.8340659340659341, val_acc: 0.47058823529411764, train_loss: 0.4952130459330894, val_loss: 1.7961869543673945 (31 / 100)\n",
            "train_acc: 0.832967032967033, val_acc: 0.6470588235294118, train_loss: 0.4997765676660852, val_loss: 1.0092993098146774 (32 / 100)\n",
            "train_acc: 0.8461538461538461, val_acc: 0.5098039215686274, train_loss: 0.46166177378906, val_loss: 1.4584494560372596 (33 / 100)\n",
            "train_acc: 0.8703296703296703, val_acc: 0.7156862745098039, train_loss: 0.43050321078562476, val_loss: 0.7571568290392557 (34 / 100)\n",
            "train_acc: 0.8461538461538461, val_acc: 0.6372549019607843, train_loss: 0.47527557624565375, val_loss: 1.1749968739116894 (35 / 100)\n",
            "train_acc: 0.8802197802197802, val_acc: 0.6372549019607843, train_loss: 0.38785185604305056, val_loss: 0.8860707750507429 (36 / 100)\n",
            "train_acc: 0.8769230769230769, val_acc: 0.5882352941176471, train_loss: 0.3575528064926902, val_loss: 1.1610838502061134 (37 / 100)\n",
            "train_acc: 0.8868131868131868, val_acc: 0.7352941176470589, train_loss: 0.38429232223348303, val_loss: 0.781632236405915 (38 / 100)\n",
            "train_acc: 0.8681318681318682, val_acc: 0.6568627450980392, train_loss: 0.3736626031634572, val_loss: 0.9919465710135067 (39 / 100)\n",
            "train_acc: 0.8923076923076924, val_acc: 0.6666666666666666, train_loss: 0.32954101935847774, val_loss: 1.035385012626648 (40 / 100)\n",
            "train_acc: 0.8989010989010989, val_acc: 0.6372549019607843, train_loss: 0.32832598725518025, val_loss: 1.0710607545048583 (41 / 100)\n",
            "train_acc: 0.9164835164835164, val_acc: 0.7450980392156863, train_loss: 0.2698698364771329, val_loss: 0.6547349843324399 (42 / 100)\n",
            "train_acc: 0.9164835164835164, val_acc: 0.7058823529411765, train_loss: 0.27480752548346155, val_loss: 0.9045946598052979 (43 / 100)\n",
            "train_acc: 0.8681318681318682, val_acc: 0.6078431372549019, train_loss: 0.3947483911619082, val_loss: 1.1534717129726035 (44 / 100)\n",
            "train_acc: 0.9296703296703297, val_acc: 0.6078431372549019, train_loss: 0.2603764187831145, val_loss: 1.142046051866868 (45 / 100)\n",
            "train_acc: 0.9197802197802197, val_acc: 0.7254901960784313, train_loss: 0.26406534635922413, val_loss: 0.7784388673071768 (46 / 100)\n",
            "train_acc: 0.9230769230769231, val_acc: 0.6666666666666666, train_loss: 0.2614278820189801, val_loss: 0.965078120138131 (47 / 100)\n",
            "train_acc: 0.9494505494505494, val_acc: 0.5, train_loss: 0.20246718165638683, val_loss: 1.5617922240612554 (48 / 100)\n",
            "train_acc: 0.932967032967033, val_acc: 0.7156862745098039, train_loss: 0.2273637368456348, val_loss: 0.7310894587460686 (49 / 100)\n",
            "train_acc: 0.9472527472527472, val_acc: 0.7156862745098039, train_loss: 0.18765010729759604, val_loss: 0.7482591248026081 (50 / 100)\n",
            "train_acc: 0.954945054945055, val_acc: 0.6274509803921569, train_loss: 0.17131087753798935, val_loss: 1.0928267708011703 (51 / 100)\n",
            "train_acc: 0.9395604395604396, val_acc: 0.4803921568627451, train_loss: 0.20424265704312167, val_loss: 1.886539711671717 (52 / 100)\n",
            "train_acc: 0.9560439560439561, val_acc: 0.7352941176470589, train_loss: 0.17933730973483442, val_loss: 0.7728210518173143 (53 / 100)\n",
            "train_acc: 0.9406593406593406, val_acc: 0.7058823529411765, train_loss: 0.1992108465387271, val_loss: 0.7131627540962369 (54 / 100)\n",
            "train_acc: 0.9417582417582417, val_acc: 0.7156862745098039, train_loss: 0.1868944383093289, val_loss: 0.6998960656278274 (55 / 100)\n",
            "train_acc: 0.9494505494505494, val_acc: 0.6176470588235294, train_loss: 0.172985046512478, val_loss: 1.0667112516421897 (56 / 100)\n",
            "train_acc: 0.9472527472527472, val_acc: 0.696078431372549, train_loss: 0.16731144098135142, val_loss: 0.7964701909644931 (57 / 100)\n",
            "train_acc: 0.9527472527472527, val_acc: 0.8235294117647058, train_loss: 0.18396792722927344, val_loss: 0.516998720519683 (58 / 100)\n",
            "train_acc: 0.9406593406593406, val_acc: 0.6568627450980392, train_loss: 0.20453299074382572, val_loss: 0.9248065784865734 (59 / 100)\n",
            "train_acc: 0.9637362637362638, val_acc: 0.7058823529411765, train_loss: 0.15101449142445575, val_loss: 0.9110421853906968 (60 / 100)\n",
            "train_acc: 0.967032967032967, val_acc: 0.7156862745098039, train_loss: 0.1328431868291163, val_loss: 0.6769179549871707 (61 / 100)\n",
            "train_acc: 0.9846153846153847, val_acc: 0.7745098039215687, train_loss: 0.07952371533591669, val_loss: 0.5969304848535388 (62 / 100)\n",
            "train_acc: 0.9736263736263736, val_acc: 0.7745098039215687, train_loss: 0.08550463089576134, val_loss: 0.5799123159810609 (63 / 100)\n",
            "train_acc: 0.9846153846153847, val_acc: 0.7745098039215687, train_loss: 0.078315518452571, val_loss: 0.5744919120973232 (64 / 100)\n",
            "train_acc: 0.9857142857142858, val_acc: 0.7843137254901961, train_loss: 0.07562543586060241, val_loss: 0.5504803467614978 (65 / 100)\n",
            "train_acc: 0.9846153846153847, val_acc: 0.803921568627451, train_loss: 0.07576223834735024, val_loss: 0.5092912503317291 (66 / 100)\n",
            "train_acc: 0.9868131868131869, val_acc: 0.7156862745098039, train_loss: 0.07025062330681217, val_loss: 0.6088781555493673 (67 / 100)\n",
            "train_acc: 0.987912087912088, val_acc: 0.7745098039215687, train_loss: 0.07205503273468751, val_loss: 0.5361903128670711 (68 / 100)\n",
            "train_acc: 0.9923076923076923, val_acc: 0.7254901960784313, train_loss: 0.05626007318496704, val_loss: 0.643713581795786 (69 / 100)\n",
            "train_acc: 0.987912087912088, val_acc: 0.7352941176470589, train_loss: 0.06802517398373112, val_loss: 0.564536888809765 (70 / 100)\n",
            "train_acc: 0.9923076923076923, val_acc: 0.7647058823529411, train_loss: 0.056941504002763675, val_loss: 0.5374520479464063 (71 / 100)\n",
            "train_acc: 0.9824175824175824, val_acc: 0.7352941176470589, train_loss: 0.06494924576523212, val_loss: 0.5334803403592577 (72 / 100)\n",
            "train_acc: 0.9923076923076923, val_acc: 0.7843137254901961, train_loss: 0.05831361866586811, val_loss: 0.5139986779175553 (73 / 100)\n",
            "train_acc: 0.9857142857142858, val_acc: 0.7843137254901961, train_loss: 0.06701385789847636, val_loss: 0.5011822002775529 (74 / 100)\n",
            "train_acc: 0.9846153846153847, val_acc: 0.7941176470588235, train_loss: 0.0781750914814708, val_loss: 0.5163502798360937 (75 / 100)\n",
            "train_acc: 0.989010989010989, val_acc: 0.7843137254901961, train_loss: 0.0668476282854329, val_loss: 0.49207717355559855 (76 / 100)\n",
            "train_acc: 0.9923076923076923, val_acc: 0.7745098039215687, train_loss: 0.051575000453126296, val_loss: 0.4761788249015808 (77 / 100)\n",
            "train_acc: 0.9912087912087912, val_acc: 0.7647058823529411, train_loss: 0.04797165721327394, val_loss: 0.5314661369604223 (78 / 100)\n",
            "train_acc: 0.9857142857142858, val_acc: 0.7843137254901961, train_loss: 0.05927941772554602, val_loss: 0.4805564553129907 (79 / 100)\n",
            "train_acc: 0.987912087912088, val_acc: 0.7549019607843137, train_loss: 0.06372288661998707, val_loss: 0.5322301063467475 (80 / 100)\n",
            "train_acc: 0.9901098901098901, val_acc: 0.7549019607843137, train_loss: 0.053887684264598966, val_loss: 0.5217707478532604 (81 / 100)\n",
            "train_acc: 0.989010989010989, val_acc: 0.7647058823529411, train_loss: 0.05567121819316686, val_loss: 0.4981667428624396 (82 / 100)\n",
            "train_acc: 0.9934065934065934, val_acc: 0.8137254901960784, train_loss: 0.05633405328288183, val_loss: 0.48338878855985756 (83 / 100)\n",
            "train_acc: 0.9967032967032967, val_acc: 0.7745098039215687, train_loss: 0.04573826003860641, val_loss: 0.49010156650169223 (84 / 100)\n",
            "train_acc: 0.987912087912088, val_acc: 0.7647058823529411, train_loss: 0.06365127143460315, val_loss: 0.5466526770124248 (85 / 100)\n",
            "train_acc: 0.987912087912088, val_acc: 0.7843137254901961, train_loss: 0.054746883583592844, val_loss: 0.49290060514912887 (86 / 100)\n",
            "train_acc: 0.9912087912087912, val_acc: 0.7843137254901961, train_loss: 0.048104023146391894, val_loss: 0.49349364112405214 (87 / 100)\n",
            "train_acc: 0.9945054945054945, val_acc: 0.7745098039215687, train_loss: 0.054661496122787284, val_loss: 0.4684624397287182 (88 / 100)\n",
            "train_acc: 0.9934065934065934, val_acc: 0.7745098039215687, train_loss: 0.055126841511618306, val_loss: 0.5252570907274882 (89 / 100)\n",
            "train_acc: 0.9912087912087912, val_acc: 0.7647058823529411, train_loss: 0.04876773436809634, val_loss: 0.5173041773777382 (90 / 100)\n",
            "train_acc: 0.9945054945054945, val_acc: 0.7549019607843137, train_loss: 0.05065978962395872, val_loss: 0.5326410274879605 (91 / 100)\n",
            "train_acc: 0.9967032967032967, val_acc: 0.7549019607843137, train_loss: 0.046648821922448964, val_loss: 0.509036649091571 (92 / 100)\n",
            "train_acc: 0.9934065934065934, val_acc: 0.7450980392156863, train_loss: 0.04605744854843879, val_loss: 0.5724267211614871 (93 / 100)\n",
            "train_acc: 0.989010989010989, val_acc: 0.803921568627451, train_loss: 0.050677386482993324, val_loss: 0.5319568783629174 (94 / 100)\n",
            "train_acc: 0.987912087912088, val_acc: 0.803921568627451, train_loss: 0.05468106106087402, val_loss: 0.5164716208682341 (95 / 100)\n",
            "train_acc: 0.9967032967032967, val_acc: 0.7549019607843137, train_loss: 0.04152250501153233, val_loss: 0.5187102346224528 (96 / 100)\n",
            "train_acc: 0.9978021978021978, val_acc: 0.7745098039215687, train_loss: 0.035292797298221795, val_loss: 0.49353304914399687 (97 / 100)\n",
            "train_acc: 0.9901098901098901, val_acc: 0.7647058823529411, train_loss: 0.049305033413590965, val_loss: 0.5063942740945255 (98 / 100)\n",
            "train_acc: 0.9956043956043956, val_acc: 0.7549019607843137, train_loss: 0.04432267303895819, val_loss: 0.5535871421589571 (99 / 100)\n",
            "train_acc: 0.9923076923076923, val_acc: 0.7745098039215687, train_loss: 0.05118745133526378, val_loss: 0.4976343839776282 (100 / 100)\n"
          ],
          "name": "stdout"
        },
        {
          "output_type": "display_data",
          "data": {
            "image/png": "[encoded data removed]",
            "text/plain": [
              "<Figure size 432x288 with 1 Axes>"
            ]
          },
          "metadata": {
            "tags": []
          }
        },
        {
          "output_type": "display_data",
          "data": {
            "image/png": "[encoded data removed]",
            "text/plain": [
              "<Figure size 432x288 with 1 Axes>"
            ]
          },
          "metadata": {
            "tags": []
          }
        },
        {
          "output_type": "display_data",
          "data": {
            "image/png": "[encoded data removed]",
            "text/plain": [
              "<Figure size 432x288 with 1 Axes>"
            ]
          },
          "metadata": {
            "tags": []
          }
        },
        {
          "output_type": "stream",
          "text": [
            "val accuracy 0.8235294117647058\n",
            "val loss 0.516998720519683\n"
          ],
          "name": "stdout"
        }
      ]
    },
    {
      "cell_type": "markdown",
      "metadata": {
        "colab_type": "text",
        "id": "1kgj76dvQxIJ"
      },
      "source": [
        "**Testing**"
      ]
    },
    {
      "cell_type": "code",
      "metadata": {
        "colab_type": "code",
        "id": "_dKdDvgnQw7d",
        "trusted": false,
        "colab": {}
      },
      "source": [
        "# todo"
      ],
      "execution_count": 0,
      "outputs": []
    },
    {
      "cell_type": "markdown",
      "metadata": {
        "colab_type": "text",
        "id": "qxj7-SlSKb_3"
      },
      "source": [
        "**Grid search**"
      ]
    },
    {
      "cell_type": "code",
      "metadata": {
        "colab_type": "code",
        "id": "aPmSObkPKbu3",
        "outputId": "3d113bbd-1c05-4e43-e14e-3c1ce17f6272",
        "trusted": false,
        "colab": {
          "base_uri": "https://localhost:8080/",
          "height": 658
        }
      },
      "source": [
        "NUM_CLASSES = 6\n",
        "DEVICE = 'cuda'\n",
        "#BATCH_SIZE = 16\n",
        "#LR = 0.001\n",
        "MOMENTUM = 0.9\n",
        "#WEIGHT_DECAY = 5e-5\n",
        "NUM_EPOCHS = 100\n",
        "STEP_SIZE = 60\n",
        "#GAMMA = 0.1\n",
        "\n",
        "lr_range = [0.001, 0.05]\n",
        "batch_size_range = [32, 128] #was 16, 32\n",
        "weight_decay_range = [1e-5, 1e-3] #was \n",
        "gamma_range = [0.08, 0.8] #was 0.08, 0.1\n",
        "hyperparameters_sets = []\n",
        "\n",
        "for lr in lr_range:\n",
        "  for batch_size in batch_size_range:\n",
        "    for weight_decay in weight_decay_range:\n",
        "      for gamma in gamma_range:\n",
        "        hyperparameters_sets.append({'lr': lr, 'batch_size': batch_size, 'weight_decay': weight_decay, 'gamma': gamma})\n",
        "\n",
        "for set in hyperparameters_sets:\n",
        "  print(set)\n",
        "\n",
        "\n",
        "TRAIN_DATA_DIR = 'AIML_project/ravdess-emotional-song-spec-224'\n",
        "compose=[#transforms.Resize(224),\n",
        "         transforms.CenterCrop(224),\n",
        "         transforms.RandomGrayscale(),\n",
        "         transforms.ColorJitter(brightness=0.5, contrast=0.5),\n",
        "         transforms.ToTensor()\n",
        "         ]\n",
        "train_dataset, val_dataset = get_datasets(TRAIN_DATA_DIR, TRAIN_DATA_DIR, compose)\n",
        "\n",
        "train_indexes = [idx for idx in range(len(train_dataset)) if idx % 5]\n",
        "val_indexes = [idx for idx in range(len(train_dataset)) if not idx % 5]\n",
        "val_dataset = Subset(val_dataset, val_indexes)\n",
        "train_dataset = Subset(train_dataset, train_indexes)\n",
        "print('training set {}'.format(len(train_dataset)))\n",
        "print('validation set {}'.format(len(val_dataset)))\n",
        "\n",
        "best_net = googlenet()\n",
        "best_net = best_net.to(DEVICE)\n",
        "#best_net.classifier[6] = nn.Linear(4096, NUM_CLASSES)\n",
        "best_set = {}\n",
        "best_accuracy = 0.0\n",
        "best_loss = 0.0\n",
        "val_accuracies = []\n",
        "val_losses = []\n",
        "\n",
        "for set in hyperparameters_sets:\n",
        "\n",
        "  net = googlenet()\n",
        "  #net.classifier[6] = nn.Linear(4096, NUM_CLASSES)\n",
        "  current_net, val_accuracy, val_loss = train_network(net, net.parameters(), set['lr'], NUM_EPOCHS, set['batch_size'], set['weight_decay'], STEP_SIZE, set['gamma'], train_dataset, val_dataset=val_dataset, verbosity=True)\n",
        "  val_accuracies.append(val_accuracy)\n",
        "  val_losses.append(val_loss)\n",
        "\n",
        "  if val_accuracy > best_accuracy:\n",
        "    best_accuracy = val_accuracy\n",
        "    best_loss = val_loss\n",
        "    best_net = copy.deepcopy(current_net)\n",
        "    best_set = copy.deepcopy(set)\n",
        "  \n",
        "  print(\"({}), val accuracy {}, val loss {}\".format(set, val_accuracy, val_loss))\n",
        "\n",
        "print(\"\\n({}), best val accuracy {}, best val loss {}\".format(best_set, best_accuracy, best_loss))\n",
        "print(\"\\nval_accuracies\")\n",
        "print(val_accuracies)"
      ],
      "execution_count": 6,
      "outputs": [
        {
          "output_type": "stream",
          "text": [
            "{'lr': 0.001, 'batch_size': 32, 'weight_decay': 1e-05, 'gamma': 0.08}\n",
            "{'lr': 0.001, 'batch_size': 32, 'weight_decay': 1e-05, 'gamma': 0.8}\n",
            "{'lr': 0.001, 'batch_size': 32, 'weight_decay': 0.001, 'gamma': 0.08}\n",
            "{'lr': 0.001, 'batch_size': 32, 'weight_decay': 0.001, 'gamma': 0.8}\n",
            "{'lr': 0.001, 'batch_size': 128, 'weight_decay': 1e-05, 'gamma': 0.08}\n",
            "{'lr': 0.001, 'batch_size': 128, 'weight_decay': 1e-05, 'gamma': 0.8}\n",
            "{'lr': 0.001, 'batch_size': 128, 'weight_decay': 0.001, 'gamma': 0.08}\n",
            "{'lr': 0.001, 'batch_size': 128, 'weight_decay': 0.001, 'gamma': 0.8}\n",
            "{'lr': 0.05, 'batch_size': 32, 'weight_decay': 1e-05, 'gamma': 0.08}\n",
            "{'lr': 0.05, 'batch_size': 32, 'weight_decay': 1e-05, 'gamma': 0.8}\n",
            "{'lr': 0.05, 'batch_size': 32, 'weight_decay': 0.001, 'gamma': 0.08}\n",
            "{'lr': 0.05, 'batch_size': 32, 'weight_decay': 0.001, 'gamma': 0.8}\n",
            "{'lr': 0.05, 'batch_size': 128, 'weight_decay': 1e-05, 'gamma': 0.08}\n",
            "{'lr': 0.05, 'batch_size': 128, 'weight_decay': 1e-05, 'gamma': 0.8}\n",
            "{'lr': 0.05, 'batch_size': 128, 'weight_decay': 0.001, 'gamma': 0.08}\n",
            "{'lr': 0.05, 'batch_size': 128, 'weight_decay': 0.001, 'gamma': 0.8}\n"
          ],
          "name": "stdout"
        },
        {
          "output_type": "error",
          "ename": "FileNotFoundError",
          "evalue": "ignored",
          "traceback": [
            "\u001b[0;31m---------------------------------------------------------------------------\u001b[0m",
            "\u001b[0;31mFileNotFoundError\u001b[0m                         Traceback (most recent call last)",
            "\u001b[0;32m<ipython-input-6-0d2c05a91994>\u001b[0m in \u001b[0;36m<module>\u001b[0;34m()\u001b[0m\n\u001b[1;32m     32\u001b[0m          \u001b[0mtransforms\u001b[0m\u001b[0;34m.\u001b[0m\u001b[0mToTensor\u001b[0m\u001b[0;34m(\u001b[0m\u001b[0;34m)\u001b[0m\u001b[0;34m\u001b[0m\u001b[0;34m\u001b[0m\u001b[0m\n\u001b[1;32m     33\u001b[0m          ]\n\u001b[0;32m---> 34\u001b[0;31m \u001b[0mtrain_dataset\u001b[0m\u001b[0;34m,\u001b[0m \u001b[0mval_dataset\u001b[0m \u001b[0;34m=\u001b[0m \u001b[0mget_datasets\u001b[0m\u001b[0;34m(\u001b[0m\u001b[0mTRAIN_DATA_DIR\u001b[0m\u001b[0;34m,\u001b[0m \u001b[0mTRAIN_DATA_DIR\u001b[0m\u001b[0;34m,\u001b[0m \u001b[0mcompose\u001b[0m\u001b[0;34m)\u001b[0m\u001b[0;34m\u001b[0m\u001b[0;34m\u001b[0m\u001b[0m\n\u001b[0m\u001b[1;32m     35\u001b[0m \u001b[0;34m\u001b[0m\u001b[0m\n\u001b[1;32m     36\u001b[0m \u001b[0mtrain_indexes\u001b[0m \u001b[0;34m=\u001b[0m \u001b[0;34m[\u001b[0m\u001b[0midx\u001b[0m \u001b[0;32mfor\u001b[0m \u001b[0midx\u001b[0m \u001b[0;32min\u001b[0m \u001b[0mrange\u001b[0m\u001b[0;34m(\u001b[0m\u001b[0mlen\u001b[0m\u001b[0;34m(\u001b[0m\u001b[0mtrain_dataset\u001b[0m\u001b[0;34m)\u001b[0m\u001b[0;34m)\u001b[0m \u001b[0;32mif\u001b[0m \u001b[0midx\u001b[0m \u001b[0;34m%\u001b[0m \u001b[0;36m5\u001b[0m\u001b[0;34m]\u001b[0m\u001b[0;34m\u001b[0m\u001b[0;34m\u001b[0m\u001b[0m\n",
            "\u001b[0;32m<ipython-input-3-0ec0b09463c7>\u001b[0m in \u001b[0;36mget_datasets\u001b[0;34m(train_data_dir, test_data_dir, compose)\u001b[0m\n\u001b[1;32m     15\u001b[0m         \u001b[0mget_ipython\u001b[0m\u001b[0;34m(\u001b[0m\u001b[0;34m)\u001b[0m\u001b[0;34m.\u001b[0m\u001b[0msystem\u001b[0m\u001b[0;34m(\u001b[0m\u001b[0;34m'git clone https://github.com/anphetamina/AIML_project.git'\u001b[0m\u001b[0;34m)\u001b[0m\u001b[0;34m\u001b[0m\u001b[0;34m\u001b[0m\u001b[0m\n\u001b[1;32m     16\u001b[0m \u001b[0;34m\u001b[0m\u001b[0m\n\u001b[0;32m---> 17\u001b[0;31m     \u001b[0mtrain_dataset\u001b[0m \u001b[0;34m=\u001b[0m \u001b[0mtorchvision\u001b[0m\u001b[0;34m.\u001b[0m\u001b[0mdatasets\u001b[0m\u001b[0;34m.\u001b[0m\u001b[0mImageFolder\u001b[0m\u001b[0;34m(\u001b[0m\u001b[0mtrain_data_dir\u001b[0m\u001b[0;34m,\u001b[0m \u001b[0mtransform\u001b[0m\u001b[0;34m=\u001b[0m\u001b[0mtrain_transform\u001b[0m\u001b[0;34m)\u001b[0m\u001b[0;34m\u001b[0m\u001b[0;34m\u001b[0m\u001b[0m\n\u001b[0m\u001b[1;32m     18\u001b[0m     \u001b[0mtest_dataset\u001b[0m \u001b[0;34m=\u001b[0m \u001b[0mtorchvision\u001b[0m\u001b[0;34m.\u001b[0m\u001b[0mdatasets\u001b[0m\u001b[0;34m.\u001b[0m\u001b[0mImageFolder\u001b[0m\u001b[0;34m(\u001b[0m\u001b[0mtest_data_dir\u001b[0m\u001b[0;34m,\u001b[0m \u001b[0mtransform\u001b[0m\u001b[0;34m=\u001b[0m\u001b[0meval_transform\u001b[0m\u001b[0;34m)\u001b[0m\u001b[0;34m\u001b[0m\u001b[0;34m\u001b[0m\u001b[0m\n\u001b[1;32m     19\u001b[0m \u001b[0;34m\u001b[0m\u001b[0m\n",
            "\u001b[0;32m/usr/local/lib/python3.6/dist-packages/torchvision/datasets/folder.py\u001b[0m in \u001b[0;36m__init__\u001b[0;34m(self, root, transform, target_transform, loader, is_valid_file)\u001b[0m\n\u001b[1;32m    207\u001b[0m                                           \u001b[0mtransform\u001b[0m\u001b[0;34m=\u001b[0m\u001b[0mtransform\u001b[0m\u001b[0;34m,\u001b[0m\u001b[0;34m\u001b[0m\u001b[0;34m\u001b[0m\u001b[0m\n\u001b[1;32m    208\u001b[0m                                           \u001b[0mtarget_transform\u001b[0m\u001b[0;34m=\u001b[0m\u001b[0mtarget_transform\u001b[0m\u001b[0;34m,\u001b[0m\u001b[0;34m\u001b[0m\u001b[0;34m\u001b[0m\u001b[0m\n\u001b[0;32m--> 209\u001b[0;31m                                           is_valid_file=is_valid_file)\n\u001b[0m\u001b[1;32m    210\u001b[0m         \u001b[0mself\u001b[0m\u001b[0;34m.\u001b[0m\u001b[0mimgs\u001b[0m \u001b[0;34m=\u001b[0m \u001b[0mself\u001b[0m\u001b[0;34m.\u001b[0m\u001b[0msamples\u001b[0m\u001b[0;34m\u001b[0m\u001b[0;34m\u001b[0m\u001b[0m\n",
            "\u001b[0;32m/usr/local/lib/python3.6/dist-packages/torchvision/datasets/folder.py\u001b[0m in \u001b[0;36m__init__\u001b[0;34m(self, root, loader, extensions, transform, target_transform, is_valid_file)\u001b[0m\n\u001b[1;32m     91\u001b[0m         super(DatasetFolder, self).__init__(root, transform=transform,\n\u001b[1;32m     92\u001b[0m                                             target_transform=target_transform)\n\u001b[0;32m---> 93\u001b[0;31m         \u001b[0mclasses\u001b[0m\u001b[0;34m,\u001b[0m \u001b[0mclass_to_idx\u001b[0m \u001b[0;34m=\u001b[0m \u001b[0mself\u001b[0m\u001b[0;34m.\u001b[0m\u001b[0m_find_classes\u001b[0m\u001b[0;34m(\u001b[0m\u001b[0mself\u001b[0m\u001b[0;34m.\u001b[0m\u001b[0mroot\u001b[0m\u001b[0;34m)\u001b[0m\u001b[0;34m\u001b[0m\u001b[0;34m\u001b[0m\u001b[0m\n\u001b[0m\u001b[1;32m     94\u001b[0m         \u001b[0msamples\u001b[0m \u001b[0;34m=\u001b[0m \u001b[0mmake_dataset\u001b[0m\u001b[0;34m(\u001b[0m\u001b[0mself\u001b[0m\u001b[0;34m.\u001b[0m\u001b[0mroot\u001b[0m\u001b[0;34m,\u001b[0m \u001b[0mclass_to_idx\u001b[0m\u001b[0;34m,\u001b[0m \u001b[0mextensions\u001b[0m\u001b[0;34m,\u001b[0m \u001b[0mis_valid_file\u001b[0m\u001b[0;34m)\u001b[0m\u001b[0;34m\u001b[0m\u001b[0;34m\u001b[0m\u001b[0m\n\u001b[1;32m     95\u001b[0m         \u001b[0;32mif\u001b[0m \u001b[0mlen\u001b[0m\u001b[0;34m(\u001b[0m\u001b[0msamples\u001b[0m\u001b[0;34m)\u001b[0m \u001b[0;34m==\u001b[0m \u001b[0;36m0\u001b[0m\u001b[0;34m:\u001b[0m\u001b[0;34m\u001b[0m\u001b[0;34m\u001b[0m\u001b[0m\n",
            "\u001b[0;32m/usr/local/lib/python3.6/dist-packages/torchvision/datasets/folder.py\u001b[0m in \u001b[0;36m_find_classes\u001b[0;34m(self, dir)\u001b[0m\n\u001b[1;32m    120\u001b[0m         \u001b[0;32mif\u001b[0m \u001b[0msys\u001b[0m\u001b[0;34m.\u001b[0m\u001b[0mversion_info\u001b[0m \u001b[0;34m>=\u001b[0m \u001b[0;34m(\u001b[0m\u001b[0;36m3\u001b[0m\u001b[0;34m,\u001b[0m \u001b[0;36m5\u001b[0m\u001b[0;34m)\u001b[0m\u001b[0;34m:\u001b[0m\u001b[0;34m\u001b[0m\u001b[0;34m\u001b[0m\u001b[0m\n\u001b[1;32m    121\u001b[0m             \u001b[0;31m# Faster and available in Python 3.5 and above\u001b[0m\u001b[0;34m\u001b[0m\u001b[0;34m\u001b[0m\u001b[0;34m\u001b[0m\u001b[0m\n\u001b[0;32m--> 122\u001b[0;31m             \u001b[0mclasses\u001b[0m \u001b[0;34m=\u001b[0m \u001b[0;34m[\u001b[0m\u001b[0md\u001b[0m\u001b[0;34m.\u001b[0m\u001b[0mname\u001b[0m \u001b[0;32mfor\u001b[0m \u001b[0md\u001b[0m \u001b[0;32min\u001b[0m \u001b[0mos\u001b[0m\u001b[0;34m.\u001b[0m\u001b[0mscandir\u001b[0m\u001b[0;34m(\u001b[0m\u001b[0mdir\u001b[0m\u001b[0;34m)\u001b[0m \u001b[0;32mif\u001b[0m \u001b[0md\u001b[0m\u001b[0;34m.\u001b[0m\u001b[0mis_dir\u001b[0m\u001b[0;34m(\u001b[0m\u001b[0;34m)\u001b[0m\u001b[0;34m]\u001b[0m\u001b[0;34m\u001b[0m\u001b[0;34m\u001b[0m\u001b[0m\n\u001b[0m\u001b[1;32m    123\u001b[0m         \u001b[0;32melse\u001b[0m\u001b[0;34m:\u001b[0m\u001b[0;34m\u001b[0m\u001b[0;34m\u001b[0m\u001b[0m\n\u001b[1;32m    124\u001b[0m             \u001b[0mclasses\u001b[0m \u001b[0;34m=\u001b[0m \u001b[0;34m[\u001b[0m\u001b[0md\u001b[0m \u001b[0;32mfor\u001b[0m \u001b[0md\u001b[0m \u001b[0;32min\u001b[0m \u001b[0mos\u001b[0m\u001b[0;34m.\u001b[0m\u001b[0mlistdir\u001b[0m\u001b[0;34m(\u001b[0m\u001b[0mdir\u001b[0m\u001b[0;34m)\u001b[0m \u001b[0;32mif\u001b[0m \u001b[0mos\u001b[0m\u001b[0;34m.\u001b[0m\u001b[0mpath\u001b[0m\u001b[0;34m.\u001b[0m\u001b[0misdir\u001b[0m\u001b[0;34m(\u001b[0m\u001b[0mos\u001b[0m\u001b[0;34m.\u001b[0m\u001b[0mpath\u001b[0m\u001b[0;34m.\u001b[0m\u001b[0mjoin\u001b[0m\u001b[0;34m(\u001b[0m\u001b[0mdir\u001b[0m\u001b[0;34m,\u001b[0m \u001b[0md\u001b[0m\u001b[0;34m)\u001b[0m\u001b[0;34m)\u001b[0m\u001b[0;34m]\u001b[0m\u001b[0;34m\u001b[0m\u001b[0;34m\u001b[0m\u001b[0m\n",
            "\u001b[0;31mFileNotFoundError\u001b[0m: [Errno 2] No such file or directory: 'AIML_project/ravdess-emotional-song-spec'"
          ]
        }
      ]
    },
    {
      "cell_type": "markdown",
      "metadata": {
        "colab_type": "text",
        "id": "S1laZWm8Q0tm"
      },
      "source": [
        "**Testing**"
      ]
    },
    {
      "cell_type": "code",
      "metadata": {
        "colab_type": "code",
        "id": "TKl555WRQ1AF",
        "trusted": false,
        "colab": {}
      },
      "source": [
        "# todo"
      ],
      "execution_count": 0,
      "outputs": []
    },
    {
      "cell_type": "markdown",
      "metadata": {
        "colab_type": "text",
        "id": "jJGI06ylKePa"
      },
      "source": [
        "**Mean / std computation**"
      ]
    },
    {
      "cell_type": "code",
      "metadata": {
        "colab_type": "code",
        "id": "YDJptx12L1OL",
        "trusted": false,
        "colab": {}
      },
      "source": [
        "TRAIN_DATA_DIR = 'AIML_project/ravdess-emotional-song-mel'\n",
        "pixel_mean = np.zeros(3)\n",
        "pixel_std = np.zeros(3)\n",
        "k = 1\n",
        "dataset, _ = get_datasets(TRAIN_DATA_DIR, TRAIN_DATA_DIR, [])\n",
        "for image, _ in tqdm(dataset, \"Computing mean/std\", len(dataset), unit=\"samples\"):\n",
        "    image = np.array(image)\n",
        "    pixels = image.reshape((-1, image.shape[2]))\n",
        "\n",
        "    for pixel in pixels:\n",
        "        diff = pixel - pixel_mean\n",
        "        pixel_mean += diff / k\n",
        "        pixel_std += diff * (pixel - pixel_mean)\n",
        "        k += 1\n",
        "\n",
        "pixel_std = np.sqrt(pixel_std / (k - 2))\n",
        "print(pixel_mean)\n",
        "print(pixel_std)"
      ],
      "execution_count": 0,
      "outputs": []
    }
  ]
}
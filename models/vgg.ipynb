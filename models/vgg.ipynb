{
  "nbformat": 4,
  "nbformat_minor": 0,
  "metadata": {
    "colab": {
      "name": "vgg.ipynb",
      "provenance": [],
      "collapsed_sections": []
    },
    "kernelspec": {
      "name": "python3",
      "display_name": "Python 3"
    },
    "accelerator": "GPU"
  },
  "cells": [
    {
      "cell_type": "markdown",
      "metadata": {
        "colab_type": "text",
        "id": "MbtUcKfE_I4g"
      },
      "source": [
        "**Installs**"
      ]
    },
    {
      "cell_type": "code",
      "metadata": {
        "colab_type": "code",
        "id": "tzg4cO9xLvUG",
        "trusted": false,
        "colab": {}
      },
      "source": [
        "!pip3 install 'torch==1.3.1'\n",
        "!pip3 install 'torchvision==0.5.0'\n",
        "!pip3 install 'Pillow-SIMD'\n",
        "!pip3 install 'tqdm'"
      ],
      "execution_count": 0,
      "outputs": []
    },
    {
      "cell_type": "markdown",
      "metadata": {
        "colab_type": "text",
        "id": "fxs_3zcG_NZd"
      },
      "source": [
        "**Imports**"
      ]
    },
    {
      "cell_type": "code",
      "metadata": {
        "colab_type": "code",
        "id": "C7N0hU-VLx8W",
        "trusted": true,
        "colab": {}
      },
      "source": [
        "import os\n",
        "import logging\n",
        "\n",
        "import torch\n",
        "import torch.nn as nn\n",
        "import torch.optim as optim\n",
        "from torch.utils.data import Subset, DataLoader\n",
        "from torch.backends import cudnn\n",
        "\n",
        "import torchvision\n",
        "from torchvision import transforms\n",
        "from torchvision.models import vgg19\n",
        "from torchvision.models import vgg19_bn\n",
        "from torchvision.models import vgg16\n",
        "from torchvision.models import alexnet\n",
        "\n",
        "from PIL import Image\n",
        "from tqdm import tqdm\n",
        "\n",
        "import numpy as np\n",
        "import matplotlib.pyplot as plt\n",
        "import copy\n",
        "\n",
        "#NUM_CLASSES = 102\n",
        "NUM_CLASSES = 6\n",
        "DEVICE = 'cuda'\n",
        "MOMENTUM = 0.9"
      ],
      "execution_count": 0,
      "outputs": []
    },
    {
      "cell_type": "markdown",
      "metadata": {
        "colab_type": "text",
        "id": "uvABcepY_Vfe"
      },
      "source": [
        "**Model definition**"
      ]
    },
    {
      "cell_type": "code",
      "metadata": {
        "colab_type": "code",
        "id": "vztVCv3fQXjR",
        "trusted": true,
        "colab": {}
      },
      "source": [
        "def get_datasets(train_data_dir, test_data_dir, compose=[transforms.Resize(224),\n",
        "                                                         transforms.CenterCrop(224),\n",
        "                                                         transforms.ToTensor()#,\n",
        "                                                         #transforms.Normalize((75.29522728, 26.30439561, 70.34910019), (80.67869619, 35.54419227, 54.88938911))\n",
        "                                                         ]):\n",
        "    train_transform = transforms.Compose(compose)\n",
        "    eval_transform = transforms.Compose([\n",
        "          transforms.Resize(224),\n",
        "          transforms.CenterCrop(224),\n",
        "          transforms.ToTensor()\n",
        "          ])\n",
        "\n",
        "    '''\n",
        "    if not os.path.isdir('./Homework2-Caltech101'):\n",
        "        !git clone https://github.com/MachineLearning2020/Homework2-Caltech101.git\n",
        "\n",
        "    '''\n",
        "    if not os.path.isdir('./AIML_project'):\n",
        "        !git clone https://github.com/anphetamina/AIML_project.git\n",
        "    \n",
        "    train_dataset = torchvision.datasets.ImageFolder(train_data_dir, transform=train_transform)\n",
        "    test_dataset = torchvision.datasets.ImageFolder(test_data_dir, transform=eval_transform)\n",
        "\n",
        "    return train_dataset, test_dataset\n",
        "\n",
        "def test_network(net, test_dataset, batch_size):\n",
        "    test_dataloader = DataLoader(test_dataset, batch_size=batch_size, shuffle=False, num_workers=4)\n",
        "    net.train(False)\n",
        "\n",
        "    criterion = nn.CrossEntropyLoss()\n",
        "\n",
        "    sum_test_losses = 0.0\n",
        "    running_corrects = 0\n",
        "    for images, labels in test_dataloader:\n",
        "      images = images.to(DEVICE)\n",
        "      labels = labels.to(DEVICE)\n",
        "\n",
        "      # Forward Pass\n",
        "      outputs = net(images)\n",
        "\n",
        "      # Get predictions\n",
        "      _, preds = torch.max(outputs.data, 1)\n",
        "      test_loss = criterion(outputs, labels)\n",
        "      sum_test_losses += test_loss.item()*images.size(0)\n",
        "\n",
        "      # Update Corrects\n",
        "      running_corrects += torch.sum(preds == labels.data).data.item()\n",
        "\n",
        "    # Calculate Accuracy\n",
        "    accuracy = running_corrects / float(len(test_dataset))\n",
        "\n",
        "    # Calculate loss\n",
        "    test_loss = sum_test_losses / float(len(test_dataset))\n",
        "\n",
        "    return accuracy, test_loss\n",
        "\n",
        "def train_network(net, parameters_to_optimize, learning_rate, num_epochs, batch_size, weight_decay, step_size, gamma, train_dataset, val_dataset=None, verbosity=False, plot=False):\n",
        "  \n",
        "    train_dataloader = DataLoader(train_dataset, batch_size=batch_size, shuffle=True, num_workers=4, drop_last=False)\n",
        "    criterion = nn.CrossEntropyLoss()\n",
        "    optimizer = optim.SGD(parameters_to_optimize, lr=learning_rate, momentum=MOMENTUM, weight_decay=weight_decay)\n",
        "    scheduler = optim.lr_scheduler.StepLR(optimizer, step_size=step_size, gamma=gamma)\n",
        "\n",
        "    net = net.to(DEVICE)\n",
        "    best_net = vgg19()\n",
        "    best_net = best_net.to(DEVICE)\n",
        "    best_net.classifier[6] = nn.Linear(4096, NUM_CLASSES)\n",
        "\n",
        "    cudnn.benchmark\n",
        "\n",
        "    train_accuracies = []\n",
        "    train_losses = []\n",
        "    val_accuracies = []\n",
        "    val_losses = []\n",
        "\n",
        "    current_step = 0\n",
        "    best_val_accuracy = 0.0\n",
        "    best_val_loss = 0.0\n",
        "    for epoch in range(num_epochs):\n",
        "\n",
        "        train_running_corrects = 0\n",
        "        sum_train_losses = 0.0\n",
        "\n",
        "        for images, labels in train_dataloader:\n",
        "            images = images.to(DEVICE)\n",
        "            labels = labels.to(DEVICE)\n",
        "            net.train()\n",
        "            optimizer.zero_grad()\n",
        "\n",
        "            outputs = net(images)\n",
        "            _, preds = torch.max(outputs.data, 1)\n",
        "            train_running_corrects += torch.sum(preds == labels.data).data.item()\n",
        "            loss = criterion(outputs, labels)\n",
        "            sum_train_losses += loss.item()*images.size(0)\n",
        "            loss.backward()\n",
        "\n",
        "            optimizer.step()\n",
        "            current_step += 1\n",
        "        \n",
        "        if val_dataset is not None:\n",
        "            val_accuracy, val_loss = test_network(net, val_dataset, batch_size)\n",
        "            if val_accuracy > best_val_accuracy:\n",
        "                best_val_accuracy = val_accuracy\n",
        "                best_val_loss = val_loss\n",
        "                best_net.load_state_dict(net.state_dict())\n",
        "            val_accuracies.append(val_accuracy)\n",
        "            val_losses.append(val_loss)\n",
        "\n",
        "        # Calculate accuracy on train set\n",
        "        train_accuracy = train_running_corrects / float(len(train_dataset))\n",
        "        train_accuracies.append(train_accuracy)\n",
        "\n",
        "        # Calculate loss on training set\n",
        "        train_loss = sum_train_losses/float(len(train_dataset))\n",
        "        train_losses.append(loss)\n",
        "\n",
        "        if verbosity:\n",
        "            if val_dataset is not None:\n",
        "                print(\"train_acc: {}, val_acc: {}, train_loss: {}, val_loss: {} ({} / {})\".format(train_accuracy, val_accuracy, train_loss, val_loss, epoch+1, num_epochs))\n",
        "            else:\n",
        "                print(\"train_acc: {}, train_loss: {} ({} / {})\".format(train_accuracy, train_loss, epoch+1, num_epochs))\n",
        "\n",
        "        scheduler.step()\n",
        "\n",
        "    if plot:\n",
        "\n",
        "        fig, ax = plt.subplots()\n",
        "        line1, = ax.plot(train_losses, label='Loss on training set')\n",
        "        line2, = ax.plot(train_accuracies, label='Accuracy on training set')\n",
        "        ax.legend()\n",
        "        plt.xlabel(\"Epochs\")\n",
        "        plt.show()\n",
        "\n",
        "        if val_dataset is not None:\n",
        "            fig, ax = plt.subplots()\n",
        "            line1, = ax.plot(val_accuracies, label='Accuracy on validation set', color='C2')\n",
        "            line2, = ax.plot(train_accuracies, label='Accuracy on training set', color='C3')\n",
        "            ax.legend()\n",
        "            plt.xlabel(\"Epochs\")\n",
        "            plt.show()\n",
        "        \n",
        "            fig, ax = plt.subplots()\n",
        "            line1, = ax.plot(val_losses, label='Loss on validation set', color='C1')\n",
        "            line2, = ax.plot(train_losses, label='Loss on training set', color='C7')\n",
        "            ax.legend()\n",
        "            plt.xlabel(\"Epochs\")\n",
        "            plt.show()\n",
        "\n",
        "    \n",
        "    return best_net, best_val_accuracy, best_val_loss\n"
      ],
      "execution_count": 0,
      "outputs": []
    },
    {
      "cell_type": "markdown",
      "metadata": {
        "colab_type": "text",
        "id": "I6fTm2sD_BOt"
      },
      "source": [
        "**Train + validation**"
      ]
    },
    {
      "cell_type": "code",
      "metadata": {
        "colab_type": "code",
        "id": "XtBXC1cO_A6A",
        "outputId": "1d813cf7-0e95-435c-ec92-f807a4ad2489",
        "trusted": false,
        "colab": {
          "base_uri": "https://localhost:8080/",
          "height": 1000
        }
      },
      "source": [
        "BATCH_SIZE = 16\n",
        "LR = 0.001\n",
        "MOMENTUM = 0.9\n",
        "WEIGHT_DECAY = 5e-5\n",
        "NUM_EPOCHS = 100\n",
        "STEP_SIZE = 60\n",
        "GAMMA = 0.05\n",
        "\n",
        "TRAIN_DATA_DIR = 'AIML_project/ravdess-emotional-song-spec'\n",
        "#TRAIN_DATA_DIR = 'Homework2-Caltech101/101_ObjectCategories'\n",
        "compose=[#transforms.Resize(224),\n",
        "         transforms.CenterCrop(224),\n",
        "         transforms.RandomGrayscale(),\n",
        "         transforms.ColorJitter(brightness=0.5, contrast=0.5),\n",
        "         transforms.ToTensor()\n",
        "         ]\n",
        "train_dataset, val_dataset = get_datasets(TRAIN_DATA_DIR, TRAIN_DATA_DIR, compose)\n",
        "train_indexes = [idx for idx in range(len(train_dataset)) if idx % 5]\n",
        "val_indexes = [idx for idx in range(len(train_dataset)) if not idx % 5]\n",
        "val_dataset = Subset(val_dataset, val_indexes)\n",
        "train_dataset = Subset(train_dataset, train_indexes)\n",
        "print('training set {}'.format(len(train_dataset)))\n",
        "print('validation set {}'.format(len(val_dataset)))\n",
        "\n",
        "net = vgg19()\n",
        "net.classifier[6] = nn.Linear(4096, NUM_CLASSES)\n",
        "best_net, val_accuracy, val_loss = train_network(net, net.parameters(), LR, NUM_EPOCHS, BATCH_SIZE, WEIGHT_DECAY, STEP_SIZE, GAMMA, train_dataset, val_dataset=val_dataset, verbosity=True, plot=True)\n",
        "\n",
        "print('val accuracy {}'.format(val_accuracy))\n",
        "print('val loss {}'.format(val_loss))"
      ],
      "execution_count": 5,
      "outputs": [
        {
          "output_type": "stream",
          "text": [
            "training set 809\n",
            "validation set 203\n",
            "train_acc: 0.15945611866501855, val_acc: 0.18226600985221675, train_loss: 1.7863519095961922, val_loss: 1.7749869318431235 (1 / 100)\n",
            "train_acc: 0.18046971569839307, val_acc: 0.18226600985221675, train_loss: 1.7699571374909693, val_loss: 1.751361764710525 (2 / 100)\n",
            "train_acc: 0.2200247218788628, val_acc: 0.21182266009852216, train_loss: 1.750950076671407, val_loss: 1.7378945344774595 (3 / 100)\n",
            "train_acc: 0.20642768850432633, val_acc: 0.2857142857142857, train_loss: 1.7436997010769744, val_loss: 1.7207825301315984 (4 / 100)\n",
            "train_acc: 0.2484548825710754, val_acc: 0.2660098522167488, train_loss: 1.7210341087819914, val_loss: 1.6762404946858072 (5 / 100)\n",
            "train_acc: 0.30778739184178, val_acc: 0.32019704433497537, train_loss: 1.6530373551789557, val_loss: 1.5750827325388717 (6 / 100)\n",
            "train_acc: 0.311495673671199, val_acc: 0.3054187192118227, train_loss: 1.6322292289863558, val_loss: 1.5859174687286903 (7 / 100)\n",
            "train_acc: 0.33250927070457353, val_acc: 0.3497536945812808, train_loss: 1.5649067415442544, val_loss: 1.4448580366050081 (8 / 100)\n",
            "train_acc: 0.3572311495673671, val_acc: 0.4236453201970443, train_loss: 1.53604441755929, val_loss: 1.4351222380041488 (9 / 100)\n",
            "train_acc: 0.3943139678615575, val_acc: 0.33004926108374383, train_loss: 1.4905946559752759, val_loss: 1.469487732267145 (10 / 100)\n",
            "train_acc: 0.3819530284301607, val_acc: 0.28078817733990147, train_loss: 1.4592278413336415, val_loss: 1.60974129961042 (11 / 100)\n",
            "train_acc: 0.3720642768850433, val_acc: 0.4187192118226601, train_loss: 1.4416143017439966, val_loss: 1.4361123087370924 (12 / 100)\n",
            "train_acc: 0.3794808405438813, val_acc: 0.2955665024630542, train_loss: 1.4468485368933754, val_loss: 1.6338433913996655 (13 / 100)\n",
            "train_acc: 0.3930778739184178, val_acc: 0.42857142857142855, train_loss: 1.394741000734242, val_loss: 1.3097851091417774 (14 / 100)\n",
            "train_acc: 0.42027194066749074, val_acc: 0.39408866995073893, train_loss: 1.3279362569191253, val_loss: 1.4098898057867153 (15 / 100)\n",
            "train_acc: 0.4177997527812114, val_acc: 0.41379310344827586, train_loss: 1.364502541509046, val_loss: 1.3334131129269529 (16 / 100)\n",
            "train_acc: 0.4746600741656366, val_acc: 0.43842364532019706, train_loss: 1.304370577462082, val_loss: 1.3117745057702652 (17 / 100)\n",
            "train_acc: 0.42398022249690975, val_acc: 0.4433497536945813, train_loss: 1.347145487705179, val_loss: 1.3016220930174653 (18 / 100)\n",
            "train_acc: 0.45241038318912236, val_acc: 0.43842364532019706, train_loss: 1.3113536713886615, val_loss: 1.306008049419948 (19 / 100)\n",
            "train_acc: 0.4820766378244747, val_acc: 0.4630541871921182, train_loss: 1.2758328864542015, val_loss: 1.2775594269113588 (20 / 100)\n",
            "train_acc: 0.46971569839307786, val_acc: 0.458128078817734, train_loss: 1.2627111126672206, val_loss: 1.2411712907217993 (21 / 100)\n",
            "train_acc: 0.4932014833127318, val_acc: 0.49261083743842365, train_loss: 1.214012973830196, val_loss: 1.209344199431941 (22 / 100)\n",
            "train_acc: 0.519159456118665, val_acc: 0.4729064039408867, train_loss: 1.2126881637148863, val_loss: 1.2273626436153655 (23 / 100)\n",
            "train_acc: 0.5166872682323856, val_acc: 0.4729064039408867, train_loss: 1.1452423497684512, val_loss: 1.2183772642624202 (24 / 100)\n",
            "train_acc: 0.5352286773794809, val_acc: 0.4975369458128079, train_loss: 1.1430756913127358, val_loss: 1.1469960932073922 (25 / 100)\n",
            "train_acc: 0.5241038318912238, val_acc: 0.47783251231527096, train_loss: 1.1165387920749792, val_loss: 1.2050917453953784 (26 / 100)\n",
            "train_acc: 0.5302843016069221, val_acc: 0.4827586206896552, train_loss: 1.1216493895086281, val_loss: 1.1961556323643388 (27 / 100)\n",
            "train_acc: 0.5488257107540173, val_acc: 0.47783251231527096, train_loss: 1.0708802488295197, val_loss: 1.128071941618849 (28 / 100)\n",
            "train_acc: 0.580964153275649, val_acc: 0.5172413793103449, train_loss: 0.9958879327302516, val_loss: 1.1779632506699398 (29 / 100)\n",
            "train_acc: 0.5747836835599506, val_acc: 0.5566502463054187, train_loss: 1.021386972463912, val_loss: 1.0431414742775151 (30 / 100)\n",
            "train_acc: 0.6044499381953028, val_acc: 0.6059113300492611, train_loss: 0.9889386270485349, val_loss: 1.107494134033842 (31 / 100)\n",
            "train_acc: 0.6440049443757726, val_acc: 0.5615763546798029, train_loss: 0.9081361330631195, val_loss: 1.0876345117691115 (32 / 100)\n",
            "train_acc: 0.6143386897404203, val_acc: 0.6059113300492611, train_loss: 0.9205240954280047, val_loss: 1.0676302498784558 (33 / 100)\n",
            "train_acc: 0.7181705809641533, val_acc: 0.5566502463054187, train_loss: 0.7698110290451898, val_loss: 1.1168967699769683 (34 / 100)\n",
            "train_acc: 0.6724351050679852, val_acc: 0.5714285714285714, train_loss: 0.8617587779891506, val_loss: 1.109305125151949 (35 / 100)\n",
            "train_acc: 0.6872682323856613, val_acc: 0.5862068965517241, train_loss: 0.7981782442486036, val_loss: 1.026625087695756 (36 / 100)\n",
            "train_acc: 0.7243510506798516, val_acc: 0.5862068965517241, train_loss: 0.7077748308370375, val_loss: 1.1424094644086114 (37 / 100)\n",
            "train_acc: 0.7490729295426453, val_acc: 0.5911330049261084, train_loss: 0.6826536944239632, val_loss: 1.1152384102050894 (38 / 100)\n",
            "train_acc: 0.6946847960444994, val_acc: 0.5911330049261084, train_loss: 0.7840710042875688, val_loss: 1.0281178663516868 (39 / 100)\n",
            "train_acc: 0.7861557478368356, val_acc: 0.5862068965517241, train_loss: 0.5788913877549661, val_loss: 1.071558723015151 (40 / 100)\n",
            "train_acc: 0.8195302843016069, val_acc: 0.6551724137931034, train_loss: 0.46663336568179326, val_loss: 1.04499184703592 (41 / 100)\n",
            "train_acc: 0.8244746600741656, val_acc: 0.5615763546798029, train_loss: 0.4583147772310396, val_loss: 1.4779623623551994 (42 / 100)\n",
            "train_acc: 0.7787391841779975, val_acc: 0.6108374384236454, train_loss: 0.6364205924630607, val_loss: 1.1932886166525591 (43 / 100)\n",
            "train_acc: 0.8294190358467244, val_acc: 0.5665024630541872, train_loss: 0.47499116772626915, val_loss: 1.2461572818714997 (44 / 100)\n",
            "train_acc: 0.8665018541409147, val_acc: 0.645320197044335, train_loss: 0.37296016158810064, val_loss: 1.1575070819244009 (45 / 100)\n",
            "train_acc: 0.896168108776267, val_acc: 0.6600985221674877, train_loss: 0.29526734598929566, val_loss: 1.352015057220835 (46 / 100)\n",
            "train_acc: 0.8702101359703337, val_acc: 0.6108374384236454, train_loss: 0.3153956113072349, val_loss: 1.5862098773712008 (47 / 100)\n",
            "train_acc: 0.8899876390605687, val_acc: 0.6305418719211823, train_loss: 0.30259224923491035, val_loss: 1.2774403021840626 (48 / 100)\n",
            "train_acc: 0.9196538936959209, val_acc: 0.6305418719211823, train_loss: 0.18420899363766494, val_loss: 1.5177540300514898 (49 / 100)\n",
            "train_acc: 0.9332509270704573, val_acc: 0.645320197044335, train_loss: 0.16377416017323695, val_loss: 1.3074814169277698 (50 / 100)\n",
            "train_acc: 0.9221260815822002, val_acc: 0.6157635467980296, train_loss: 0.21651858898116869, val_loss: 1.4983219566016361 (51 / 100)\n",
            "train_acc: 0.9542645241038319, val_acc: 0.6650246305418719, train_loss: 0.1325169602738249, val_loss: 1.6363280019149404 (52 / 100)\n",
            "train_acc: 0.9295426452410384, val_acc: 0.6502463054187192, train_loss: 0.1915694343844804, val_loss: 1.4759723282799933 (53 / 100)\n",
            "train_acc: 0.9381953028430161, val_acc: 0.6699507389162561, train_loss: 0.17590373334542783, val_loss: 1.2860583084557444 (54 / 100)\n",
            "train_acc: 0.9592088998763906, val_acc: 0.6551724137931034, train_loss: 0.09263374226349688, val_loss: 2.033003178136102 (55 / 100)\n",
            "train_acc: 0.9480840543881335, val_acc: 0.5911330049261084, train_loss: 0.13352113951121922, val_loss: 1.6995241970851505 (56 / 100)\n",
            "train_acc: 0.9456118665018541, val_acc: 0.645320197044335, train_loss: 0.15100306429991173, val_loss: 1.4345445574210782 (57 / 100)\n",
            "train_acc: 0.9320148331273177, val_acc: 0.5812807881773399, train_loss: 0.18696495242260294, val_loss: 2.1212253547067124 (58 / 100)\n",
            "train_acc: 0.9542645241038319, val_acc: 0.5960591133004927, train_loss: 0.13430220853811883, val_loss: 2.131609613672266 (59 / 100)\n",
            "train_acc: 0.9666254635352287, val_acc: 0.645320197044335, train_loss: 0.10808846961973956, val_loss: 1.8407391327355296 (60 / 100)\n",
            "train_acc: 0.9901112484548825, val_acc: 0.6699507389162561, train_loss: 0.034953993803859496, val_loss: 1.6225143054435993 (61 / 100)\n",
            "train_acc: 0.9975278121137207, val_acc: 0.6748768472906403, train_loss: 0.013458512473922817, val_loss: 1.5880556036098836 (62 / 100)\n",
            "train_acc: 0.9938195302843016, val_acc: 0.6699507389162561, train_loss: 0.013537410458311559, val_loss: 1.617177378367908 (63 / 100)\n",
            "train_acc: 0.9938195302843016, val_acc: 0.6847290640394089, train_loss: 0.017741209782466606, val_loss: 1.5724905996487057 (64 / 100)\n",
            "train_acc: 0.9987639060568603, val_acc: 0.6798029556650246, train_loss: 0.00820389312717313, val_loss: 1.6199622665132796 (65 / 100)\n",
            "train_acc: 0.9962917181705809, val_acc: 0.6847290640394089, train_loss: 0.013393460460955782, val_loss: 1.6374526129567564 (66 / 100)\n",
            "train_acc: 0.9962917181705809, val_acc: 0.6748768472906403, train_loss: 0.013119790707663052, val_loss: 1.6689862224268797 (67 / 100)\n",
            "train_acc: 0.9987639060568603, val_acc: 0.6847290640394089, train_loss: 0.008827262225057768, val_loss: 1.6748121301528855 (68 / 100)\n",
            "train_acc: 0.9987639060568603, val_acc: 0.6945812807881774, train_loss: 0.006438095283887967, val_loss: 1.6820654346437878 (69 / 100)\n",
            "train_acc: 0.9975278121137207, val_acc: 0.6847290640394089, train_loss: 0.00870845521361612, val_loss: 1.7084377410963838 (70 / 100)\n",
            "train_acc: 0.9987639060568603, val_acc: 0.6847290640394089, train_loss: 0.005137910359556791, val_loss: 1.7407155265949044 (71 / 100)\n",
            "train_acc: 0.9987639060568603, val_acc: 0.6896551724137931, train_loss: 0.005759227408466881, val_loss: 1.7760758963711742 (72 / 100)\n",
            "train_acc: 0.9987639060568603, val_acc: 0.6847290640394089, train_loss: 0.007439297117403396, val_loss: 1.8094189008468478 (73 / 100)\n",
            "train_acc: 0.9987639060568603, val_acc: 0.6798029556650246, train_loss: 0.006254252750738507, val_loss: 1.8156042421979857 (74 / 100)\n",
            "train_acc: 0.9975278121137207, val_acc: 0.6896551724137931, train_loss: 0.007581719656590584, val_loss: 1.779734945649584 (75 / 100)\n",
            "train_acc: 1.0, val_acc: 0.6847290640394089, train_loss: 0.0037344562981107324, val_loss: 1.783031029654254 (76 / 100)\n",
            "train_acc: 1.0, val_acc: 0.6699507389162561, train_loss: 0.004623856915394708, val_loss: 1.8027003844970553 (77 / 100)\n",
            "train_acc: 0.9987639060568603, val_acc: 0.6748768472906403, train_loss: 0.00507655986601991, val_loss: 1.8104389524224944 (78 / 100)\n",
            "train_acc: 0.9987639060568603, val_acc: 0.6798029556650246, train_loss: 0.0061420209622943065, val_loss: 1.8184796835988613 (79 / 100)\n",
            "train_acc: 0.9987639060568603, val_acc: 0.6748768472906403, train_loss: 0.006279773853474028, val_loss: 1.8363854703057576 (80 / 100)\n",
            "train_acc: 1.0, val_acc: 0.6847290640394089, train_loss: 0.003933279417059183, val_loss: 1.841786221330389 (81 / 100)\n",
            "train_acc: 0.9962917181705809, val_acc: 0.6748768472906403, train_loss: 0.007889524820561168, val_loss: 1.864583964418308 (82 / 100)\n",
            "train_acc: 0.9975278121137207, val_acc: 0.6798029556650246, train_loss: 0.007088077672191968, val_loss: 1.8988974446733597 (83 / 100)\n",
            "train_acc: 1.0, val_acc: 0.6748768472906403, train_loss: 0.0038878331225916107, val_loss: 1.901077770247248 (84 / 100)\n",
            "train_acc: 1.0, val_acc: 0.6699507389162561, train_loss: 0.0028643154241869916, val_loss: 1.8945963335741918 (85 / 100)\n",
            "train_acc: 1.0, val_acc: 0.6699507389162561, train_loss: 0.0037702016983692374, val_loss: 1.8973881147177936 (86 / 100)\n",
            "train_acc: 1.0, val_acc: 0.6748768472906403, train_loss: 0.0028545275890027783, val_loss: 1.9186426360031654 (87 / 100)\n",
            "train_acc: 0.9987639060568603, val_acc: 0.6748768472906403, train_loss: 0.0028987649934151143, val_loss: 1.9108921835575197 (88 / 100)\n",
            "train_acc: 0.9975278121137207, val_acc: 0.6798029556650246, train_loss: 0.004177268562413641, val_loss: 1.9393046154764486 (89 / 100)\n",
            "train_acc: 0.9975278121137207, val_acc: 0.6748768472906403, train_loss: 0.005585760062314945, val_loss: 1.9650477194433729 (90 / 100)\n",
            "train_acc: 1.0, val_acc: 0.6798029556650246, train_loss: 0.0028847204014769445, val_loss: 1.9629235232404887 (91 / 100)\n",
            "train_acc: 0.9975278121137207, val_acc: 0.6798029556650246, train_loss: 0.0047207332506306165, val_loss: 1.971753804554493 (92 / 100)\n",
            "train_acc: 1.0, val_acc: 0.6748768472906403, train_loss: 0.002441572465123557, val_loss: 1.9692478737807626 (93 / 100)\n",
            "train_acc: 1.0, val_acc: 0.6699507389162561, train_loss: 0.0024427188795211876, val_loss: 1.9634154876464693 (94 / 100)\n",
            "train_acc: 1.0, val_acc: 0.6847290640394089, train_loss: 0.002623536825330861, val_loss: 1.973495115200287 (95 / 100)\n",
            "train_acc: 1.0, val_acc: 0.6748768472906403, train_loss: 0.0027453737294276066, val_loss: 1.9928546327675505 (96 / 100)\n",
            "train_acc: 0.9975278121137207, val_acc: 0.6798029556650246, train_loss: 0.007606157414098265, val_loss: 1.974074276210052 (97 / 100)\n",
            "train_acc: 1.0, val_acc: 0.6847290640394089, train_loss: 0.001823382854907185, val_loss: 1.9519985109714453 (98 / 100)\n",
            "train_acc: 0.9975278121137207, val_acc: 0.6847290640394089, train_loss: 0.0035283468279190943, val_loss: 1.988735902485589 (99 / 100)\n",
            "train_acc: 1.0, val_acc: 0.6847290640394089, train_loss: 0.0016152177959381532, val_loss: 1.999770189740975 (100 / 100)\n"
          ],
          "name": "stdout"
        },
        {
          "output_type": "display_data",
          "data": {
            "image/png": "[encoded data removed]",
            "text/plain": [
              "<Figure size 432x288 with 1 Axes>"
            ]
          },
          "metadata": {
            "tags": []
          }
        },
        {
          "output_type": "display_data",
          "data": {
            "image/png": "[encoded data removed]",
            "text/plain": [
              "<Figure size 432x288 with 1 Axes>"
            ]
          },
          "metadata": {
            "tags": []
          }
        },
        {
          "output_type": "display_data",
          "data": {
            "image/png": "[encoded data removed]",
            "text/plain": [
              "<Figure size 432x288 with 1 Axes>"
            ]
          },
          "metadata": {
            "tags": []
          }
        },
        {
          "output_type": "stream",
          "text": [
            "val accuracy 0.6945812807881774\n",
            "val loss 1.6820654346437878\n"
          ],
          "name": "stdout"
        }
      ]
    },
    {
      "cell_type": "markdown",
      "metadata": {
        "colab_type": "text",
        "id": "1kgj76dvQxIJ"
      },
      "source": [
        "**Testing**"
      ]
    },
    {
      "cell_type": "code",
      "metadata": {
        "colab_type": "code",
        "id": "_dKdDvgnQw7d",
        "trusted": false,
        "colab": {}
      },
      "source": [
        "# todo"
      ],
      "execution_count": 0,
      "outputs": []
    },
    {
      "cell_type": "markdown",
      "metadata": {
        "colab_type": "text",
        "id": "qxj7-SlSKb_3"
      },
      "source": [
        "**Grid search**"
      ]
    },
    {
      "cell_type": "code",
      "metadata": {
        "colab_type": "code",
        "id": "aPmSObkPKbu3",
        "outputId": "16f26b88-18f6-4429-957a-a8868067b378",
        "trusted": false,
        "colab": {
          "base_uri": "https://localhost:8080/",
          "height": 1000
        }
      },
      "source": [
        "NUM_CLASSES = 6\n",
        "DEVICE = 'cuda'\n",
        "#BATCH_SIZE = 16\n",
        "#LR = 0.001\n",
        "MOMENTUM = 0.9\n",
        "#WEIGHT_DECAY = 5e-5\n",
        "NUM_EPOCHS = 100\n",
        "STEP_SIZE = 60\n",
        "#GAMMA = 0.1\n",
        "\n",
        "lr_range = [0.001, 0.05]\n",
        "batch_size_range = [16, 32]\n",
        "weight_decay_range = [1e-5, 1e-3]\n",
        "gamma_range = [0.05, 0.1]\n",
        "hyperparameters_sets = []\n",
        "\n",
        "for lr in lr_range:\n",
        "  for batch_size in batch_size_range:\n",
        "    for weight_decay in weight_decay_range:\n",
        "      for gamma in gamma_range:\n",
        "        hyperparameters_sets.append({'lr': lr, 'batch_size': batch_size, 'weight_decay': weight_decay, 'gamma': gamma})\n",
        "\n",
        "for set in hyperparameters_sets:\n",
        "  print(set)\n",
        "\n",
        "\n",
        "TRAIN_DATA_DIR = 'AIML_project/ravdess-emotional-song-spec'\n",
        "compose=[#transforms.Resize(224),\n",
        "         transforms.CenterCrop(224),\n",
        "         transforms.RandomGrayscale(),\n",
        "         transforms.ColorJitter(brightness=0.5, contrast=0.5),\n",
        "         transforms.ToTensor()\n",
        "         ]\n",
        "train_dataset, val_dataset = get_datasets(TRAIN_DATA_DIR, TRAIN_DATA_DIR, compose)\n",
        "\n",
        "train_indexes = [idx for idx in range(len(train_dataset)) if idx % 5]\n",
        "val_indexes = [idx for idx in range(len(train_dataset)) if not idx % 5]\n",
        "val_dataset = Subset(val_dataset, val_indexes)\n",
        "train_dataset = Subset(train_dataset, train_indexes)\n",
        "print('training set {}'.format(len(train_dataset)))\n",
        "print('validation set {}'.format(len(val_dataset)))\n",
        "\n",
        "best_net = vgg19()\n",
        "best_net = best_net.to(DEVICE)\n",
        "best_net.classifier[6] = nn.Linear(4096, NUM_CLASSES)\n",
        "best_set = {}\n",
        "best_accuracy = 0.0\n",
        "best_loss = 0.0\n",
        "val_accuracies = []\n",
        "val_losses = []\n",
        "\n",
        "for set in hyperparameters_sets:\n",
        "\n",
        "  net = vgg19()\n",
        "  net.classifier[6] = nn.Linear(4096, NUM_CLASSES)\n",
        "  current_net, val_accuracy, val_loss = train_network(net, net.parameters(), set['lr'], NUM_EPOCHS, set['batch_size'], set['weight_decay'], STEP_SIZE, set['gamma'], train_dataset, val_dataset=val_dataset, verbosity=True)\n",
        "  val_accuracies.append(val_accuracy)\n",
        "  val_losses.append(val_loss)\n",
        "\n",
        "  if val_accuracy > best_accuracy:\n",
        "    best_accuracy = val_accuracy\n",
        "    best_loss = val_loss\n",
        "    best_net = copy.deepcopy(current_net)\n",
        "    best_set = copy.deepcopy(set)\n",
        "  \n",
        "  print(\"({}), val accuracy {}, val loss {}\".format(set, val_accuracy, val_loss))\n",
        "\n",
        "print(\"\\n({}), best val accuracy {}, best val loss {}\".format(best_set, best_accuracy, best_loss))\n",
        "print(\"\\nval_accuracies\")\n",
        "print(val_accuracies)"
      ],
      "execution_count": 6,
      "outputs": [
        {
          "output_type": "stream",
          "text": [
            "{'lr': 0.001, 'batch_size': 16, 'weight_decay': 1e-05, 'gamma': 0.05}\n",
            "{'lr': 0.001, 'batch_size': 16, 'weight_decay': 1e-05, 'gamma': 0.1}\n",
            "{'lr': 0.001, 'batch_size': 16, 'weight_decay': 0.001, 'gamma': 0.05}\n",
            "{'lr': 0.001, 'batch_size': 16, 'weight_decay': 0.001, 'gamma': 0.1}\n",
            "{'lr': 0.001, 'batch_size': 32, 'weight_decay': 1e-05, 'gamma': 0.05}\n",
            "{'lr': 0.001, 'batch_size': 32, 'weight_decay': 1e-05, 'gamma': 0.1}\n",
            "{'lr': 0.001, 'batch_size': 32, 'weight_decay': 0.001, 'gamma': 0.05}\n",
            "{'lr': 0.001, 'batch_size': 32, 'weight_decay': 0.001, 'gamma': 0.1}\n",
            "{'lr': 0.05, 'batch_size': 16, 'weight_decay': 1e-05, 'gamma': 0.05}\n",
            "{'lr': 0.05, 'batch_size': 16, 'weight_decay': 1e-05, 'gamma': 0.1}\n",
            "{'lr': 0.05, 'batch_size': 16, 'weight_decay': 0.001, 'gamma': 0.05}\n",
            "{'lr': 0.05, 'batch_size': 16, 'weight_decay': 0.001, 'gamma': 0.1}\n",
            "{'lr': 0.05, 'batch_size': 32, 'weight_decay': 1e-05, 'gamma': 0.05}\n",
            "{'lr': 0.05, 'batch_size': 32, 'weight_decay': 1e-05, 'gamma': 0.1}\n",
            "{'lr': 0.05, 'batch_size': 32, 'weight_decay': 0.001, 'gamma': 0.05}\n",
            "{'lr': 0.05, 'batch_size': 32, 'weight_decay': 0.001, 'gamma': 0.1}\n",
            "training set 809\n",
            "validation set 203\n",
            "train_acc: 0.20148331273176762, val_acc: 0.3054187192118227, train_loss: 1.7861264921973456, val_loss: 1.7769212611203122 (1 / 100)\n",
            "train_acc: 0.19283065512978986, val_acc: 0.18226600985221675, train_loss: 1.7713749435245623, val_loss: 1.7582393520571329 (2 / 100)\n",
            "train_acc: 0.19530284301606923, val_acc: 0.1921182266009852, train_loss: 1.7635527492600995, val_loss: 1.7512528996162227 (3 / 100)\n",
            "train_acc: 0.2126081582200247, val_acc: 0.2315270935960591, train_loss: 1.7621314466662696, val_loss: 1.7355213658563022 (4 / 100)\n",
            "train_acc: 0.2558714462299135, val_acc: 0.21674876847290642, train_loss: 1.734270933089946, val_loss: 1.7014975600641937 (5 / 100)\n",
            "train_acc: 0.2904820766378245, val_acc: 0.24630541871921183, train_loss: 1.6861669690116816, val_loss: 1.6521177608978572 (6 / 100)\n",
            "train_acc: 0.3238566131025958, val_acc: 0.3645320197044335, train_loss: 1.632539733968058, val_loss: 1.5847838694238898 (7 / 100)\n",
            "train_acc: 0.3189122373300371, val_acc: 0.39408866995073893, train_loss: 1.6020625865061586, val_loss: 1.491382706341485 (8 / 100)\n",
            "train_acc: 0.34239802224969096, val_acc: 0.33497536945812806, train_loss: 1.5366159205973076, val_loss: 1.5205389778015062 (9 / 100)\n",
            "train_acc: 0.32014833127317677, val_acc: 0.37438423645320196, train_loss: 1.5514528882518246, val_loss: 1.452217473772359 (10 / 100)\n",
            "train_acc: 0.34363411619283063, val_acc: 0.3054187192118227, train_loss: 1.546974951021456, val_loss: 1.4981118290882391 (11 / 100)\n",
            "train_acc: 0.36093943139678614, val_acc: 0.3645320197044335, train_loss: 1.4663510530339772, val_loss: 1.4029863438582773 (12 / 100)\n",
            "train_acc: 0.40667490729295425, val_acc: 0.39901477832512317, train_loss: 1.4478196487733255, val_loss: 1.4010798825419009 (13 / 100)\n",
            "train_acc: 0.3856613102595797, val_acc: 0.41379310344827586, train_loss: 1.4161355160959572, val_loss: 1.4193136521748133 (14 / 100)\n",
            "train_acc: 0.3930778739184178, val_acc: 0.4088669950738916, train_loss: 1.4437408134875398, val_loss: 1.3649502299689307 (15 / 100)\n",
            "train_acc: 0.40296662546353523, val_acc: 0.4088669950738916, train_loss: 1.3904964832499236, val_loss: 1.3185391719705366 (16 / 100)\n",
            "train_acc: 0.4215080346106304, val_acc: 0.4236453201970443, train_loss: 1.3558129649816544, val_loss: 1.3381117688023985 (17 / 100)\n",
            "train_acc: 0.415327564894932, val_acc: 0.3694581280788177, train_loss: 1.3477046628228224, val_loss: 1.3616887119603274 (18 / 100)\n",
            "train_acc: 0.4326328800988875, val_acc: 0.458128078817734, train_loss: 1.3439589590018406, val_loss: 1.2734048431142797 (19 / 100)\n",
            "train_acc: 0.45241038318912236, val_acc: 0.42857142857142855, train_loss: 1.3282383113031186, val_loss: 1.2771279306834555 (20 / 100)\n",
            "train_acc: 0.4264524103831891, val_acc: 0.4433497536945813, train_loss: 1.3203598193833501, val_loss: 1.2680469164120152 (21 / 100)\n",
            "train_acc: 0.44499381953028433, val_acc: 0.45320197044334976, train_loss: 1.2775538607197727, val_loss: 1.2812526396342687 (22 / 100)\n",
            "train_acc: 0.47095179233621753, val_acc: 0.4482758620689655, train_loss: 1.2684183780136156, val_loss: 1.23275177613855 (23 / 100)\n",
            "train_acc: 0.4635352286773795, val_acc: 0.4876847290640394, train_loss: 1.2687906619202811, val_loss: 1.2387215316002005 (24 / 100)\n",
            "train_acc: 0.5216316440049443, val_acc: 0.4729064039408867, train_loss: 1.1813974296501453, val_loss: 1.227885750714194 (25 / 100)\n",
            "train_acc: 0.4746600741656366, val_acc: 0.4236453201970443, train_loss: 1.2249831198467165, val_loss: 1.3952027077745335 (26 / 100)\n",
            "train_acc: 0.4758961681087763, val_acc: 0.5024630541871922, train_loss: 1.261621042146671, val_loss: 1.1505245011428307 (27 / 100)\n",
            "train_acc: 0.5105067985166872, val_acc: 0.5024630541871922, train_loss: 1.173567718864224, val_loss: 1.1557912650366722 (28 / 100)\n",
            "train_acc: 0.5142150803461063, val_acc: 0.4827586206896552, train_loss: 1.1234251064776786, val_loss: 1.2982927343528259 (29 / 100)\n",
            "train_acc: 0.5352286773794809, val_acc: 0.5369458128078818, train_loss: 1.1495949878680838, val_loss: 1.1752224370763806 (30 / 100)\n",
            "train_acc: 0.5451174289245982, val_acc: 0.5320197044334976, train_loss: 1.0926493407032545, val_loss: 1.1144769482424695 (31 / 100)\n",
            "train_acc: 0.5488257107540173, val_acc: 0.5123152709359606, train_loss: 1.0826456667613629, val_loss: 1.13970882463925 (32 / 100)\n",
            "train_acc: 0.5661310259579728, val_acc: 0.5172413793103449, train_loss: 1.0412128247200927, val_loss: 1.2727880786205161 (33 / 100)\n",
            "train_acc: 0.5797280593325093, val_acc: 0.5270935960591133, train_loss: 1.013771906624029, val_loss: 1.1120457467187215 (34 / 100)\n",
            "train_acc: 0.584672435105068, val_acc: 0.5221674876847291, train_loss: 0.9986384891903739, val_loss: 1.1294447500717464 (35 / 100)\n",
            "train_acc: 0.588380716934487, val_acc: 0.5172413793103449, train_loss: 1.0303707775580426, val_loss: 1.147975402218955 (36 / 100)\n",
            "train_acc: 0.6242274412855378, val_acc: 0.5763546798029556, train_loss: 0.896656674271903, val_loss: 1.0793750227378507 (37 / 100)\n",
            "train_acc: 0.6341161928306551, val_acc: 0.6009852216748769, train_loss: 0.9019210012203683, val_loss: 1.085298580489135 (38 / 100)\n",
            "train_acc: 0.6477132262051916, val_acc: 0.5221674876847291, train_loss: 0.8807053574820237, val_loss: 1.1411046641213554 (39 / 100)\n",
            "train_acc: 0.681087762669963, val_acc: 0.5024630541871922, train_loss: 0.7833493528760997, val_loss: 1.3575551433516253 (40 / 100)\n",
            "train_acc: 0.6650185414091471, val_acc: 0.5369458128078818, train_loss: 0.864828212299512, val_loss: 1.1296427593442606 (41 / 100)\n",
            "train_acc: 0.7095179233621756, val_acc: 0.5566502463054187, train_loss: 0.7572445280398662, val_loss: 1.3601109015530553 (42 / 100)\n",
            "train_acc: 0.6786155747836835, val_acc: 0.5566502463054187, train_loss: 0.832656711376789, val_loss: 1.2041363719061677 (43 / 100)\n",
            "train_acc: 0.7490729295426453, val_acc: 0.5665024630541872, train_loss: 0.6530402649760394, val_loss: 1.1417714777251182 (44 / 100)\n",
            "train_acc: 0.73053152039555, val_acc: 0.6009852216748769, train_loss: 0.7044697824603106, val_loss: 1.2321320278891201 (45 / 100)\n",
            "train_acc: 0.792336217552534, val_acc: 0.6206896551724138, train_loss: 0.5543426425554254, val_loss: 1.1394762156044909 (46 / 100)\n",
            "train_acc: 0.7713226205191595, val_acc: 0.5467980295566502, train_loss: 0.6309275325060775, val_loss: 1.2326010596282377 (47 / 100)\n",
            "train_acc: 0.8071693448702101, val_acc: 0.5320197044334976, train_loss: 0.5060256784793326, val_loss: 1.412078842740928 (48 / 100)\n",
            "train_acc: 0.7861557478368356, val_acc: 0.5960591133004927, train_loss: 0.582395644137827, val_loss: 1.0905524603838992 (49 / 100)\n",
            "train_acc: 0.8380716934487021, val_acc: 0.5714285714285714, train_loss: 0.45065920248314534, val_loss: 1.1022593726959136 (50 / 100)\n",
            "train_acc: 0.8084054388133498, val_acc: 0.5812807881773399, train_loss: 0.5421240364002209, val_loss: 1.3291155082251638 (51 / 100)\n",
            "train_acc: 0.865265760197775, val_acc: 0.5862068965517241, train_loss: 0.3630164226583851, val_loss: 1.218660885477301 (52 / 100)\n",
            "train_acc: 0.8430160692212608, val_acc: 0.5714285714285714, train_loss: 0.4042090090965606, val_loss: 1.7610484138498166 (53 / 100)\n",
            "train_acc: 0.8553770086526576, val_acc: 0.6108374384236454, train_loss: 0.3714405360490047, val_loss: 1.3325708899004707 (54 / 100)\n",
            "train_acc: 0.8788627935723115, val_acc: 0.5960591133004927, train_loss: 0.3582704045495527, val_loss: 1.9161644369510595 (55 / 100)\n",
            "train_acc: 0.9048207663782447, val_acc: 0.5862068965517241, train_loss: 0.2977965369139083, val_loss: 1.4806865957276574 (56 / 100)\n",
            "train_acc: 0.8800988875154512, val_acc: 0.5862068965517241, train_loss: 0.3162046977409768, val_loss: 1.2835922981130665 (57 / 100)\n",
            "train_acc: 0.8640296662546354, val_acc: 0.5320197044334976, train_loss: 0.3484381805686338, val_loss: 1.6975179951766441 (58 / 100)\n",
            "train_acc: 0.8702101359703337, val_acc: 0.6059113300492611, train_loss: 0.36507172659684173, val_loss: 1.30893865301104 (59 / 100)\n",
            "train_acc: 0.9159456118665018, val_acc: 0.625615763546798, train_loss: 0.24742504517802202, val_loss: 1.1266203361191773 (60 / 100)\n",
            "train_acc: 0.9604449938195303, val_acc: 0.6502463054187192, train_loss: 0.12324294759183937, val_loss: 1.232834337380132 (61 / 100)\n",
            "train_acc: 0.9740420271940667, val_acc: 0.6699507389162561, train_loss: 0.10699767308777063, val_loss: 1.3014511386749192 (62 / 100)\n",
            "train_acc: 0.9752781211372065, val_acc: 0.6748768472906403, train_loss: 0.0865607666857863, val_loss: 1.3711811433284742 (63 / 100)\n",
            "train_acc: 0.9740420271940667, val_acc: 0.6600985221674877, train_loss: 0.08383529442817213, val_loss: 1.4416283574597588 (64 / 100)\n",
            "train_acc: 0.9703337453646477, val_acc: 0.6699507389162561, train_loss: 0.08103984943389597, val_loss: 1.469764657208485 (65 / 100)\n",
            "train_acc: 0.9839307787391842, val_acc: 0.6748768472906403, train_loss: 0.06227020102429891, val_loss: 1.5626732475064657 (66 / 100)\n",
            "train_acc: 0.9765142150803461, val_acc: 0.6650246305418719, train_loss: 0.06672844721743439, val_loss: 1.5837042290588905 (67 / 100)\n",
            "train_acc: 0.9752781211372065, val_acc: 0.6551724137931034, train_loss: 0.06559315379317597, val_loss: 1.6230456987625272 (68 / 100)\n",
            "train_acc: 0.9802224969097652, val_acc: 0.6650246305418719, train_loss: 0.06038720408461445, val_loss: 1.6648241839385385 (69 / 100)\n",
            "train_acc: 0.9777503090234858, val_acc: 0.6600985221674877, train_loss: 0.06874336490156624, val_loss: 1.6761218127358724 (70 / 100)\n",
            "train_acc: 0.9777503090234858, val_acc: 0.6600985221674877, train_loss: 0.06111412422733821, val_loss: 1.7354353249366647 (71 / 100)\n",
            "train_acc: 0.9715698393077874, val_acc: 0.6650246305418719, train_loss: 0.0755079333369398, val_loss: 1.7385556832910172 (72 / 100)\n"
          ],
          "name": "stdout"
        },
        {
          "output_type": "error",
          "ename": "KeyboardInterrupt",
          "evalue": "ignored",
          "traceback": [
            "\u001b[0;31m---------------------------------------------------------------------------\u001b[0m",
            "\u001b[0;31mKeyboardInterrupt\u001b[0m                         Traceback (most recent call last)",
            "\u001b[0;32m<ipython-input-6-c12306d0f972>\u001b[0m in \u001b[0;36m<module>\u001b[0;34m()\u001b[0m\n\u001b[1;32m     54\u001b[0m   \u001b[0mnet\u001b[0m \u001b[0;34m=\u001b[0m \u001b[0mvgg19\u001b[0m\u001b[0;34m(\u001b[0m\u001b[0;34m)\u001b[0m\u001b[0;34m\u001b[0m\u001b[0;34m\u001b[0m\u001b[0m\n\u001b[1;32m     55\u001b[0m   \u001b[0mnet\u001b[0m\u001b[0;34m.\u001b[0m\u001b[0mclassifier\u001b[0m\u001b[0;34m[\u001b[0m\u001b[0;36m6\u001b[0m\u001b[0;34m]\u001b[0m \u001b[0;34m=\u001b[0m \u001b[0mnn\u001b[0m\u001b[0;34m.\u001b[0m\u001b[0mLinear\u001b[0m\u001b[0;34m(\u001b[0m\u001b[0;36m4096\u001b[0m\u001b[0;34m,\u001b[0m \u001b[0mNUM_CLASSES\u001b[0m\u001b[0;34m)\u001b[0m\u001b[0;34m\u001b[0m\u001b[0;34m\u001b[0m\u001b[0m\n\u001b[0;32m---> 56\u001b[0;31m   \u001b[0mcurrent_net\u001b[0m\u001b[0;34m,\u001b[0m \u001b[0mval_accuracy\u001b[0m\u001b[0;34m,\u001b[0m \u001b[0mval_loss\u001b[0m \u001b[0;34m=\u001b[0m \u001b[0mtrain_network\u001b[0m\u001b[0;34m(\u001b[0m\u001b[0mnet\u001b[0m\u001b[0;34m,\u001b[0m \u001b[0mnet\u001b[0m\u001b[0;34m.\u001b[0m\u001b[0mparameters\u001b[0m\u001b[0;34m(\u001b[0m\u001b[0;34m)\u001b[0m\u001b[0;34m,\u001b[0m \u001b[0mset\u001b[0m\u001b[0;34m[\u001b[0m\u001b[0;34m'lr'\u001b[0m\u001b[0;34m]\u001b[0m\u001b[0;34m,\u001b[0m \u001b[0mNUM_EPOCHS\u001b[0m\u001b[0;34m,\u001b[0m \u001b[0mset\u001b[0m\u001b[0;34m[\u001b[0m\u001b[0;34m'batch_size'\u001b[0m\u001b[0;34m]\u001b[0m\u001b[0;34m,\u001b[0m \u001b[0mset\u001b[0m\u001b[0;34m[\u001b[0m\u001b[0;34m'weight_decay'\u001b[0m\u001b[0;34m]\u001b[0m\u001b[0;34m,\u001b[0m \u001b[0mSTEP_SIZE\u001b[0m\u001b[0;34m,\u001b[0m \u001b[0mset\u001b[0m\u001b[0;34m[\u001b[0m\u001b[0;34m'gamma'\u001b[0m\u001b[0;34m]\u001b[0m\u001b[0;34m,\u001b[0m \u001b[0mtrain_dataset\u001b[0m\u001b[0;34m,\u001b[0m \u001b[0mval_dataset\u001b[0m\u001b[0;34m=\u001b[0m\u001b[0mval_dataset\u001b[0m\u001b[0;34m,\u001b[0m \u001b[0mverbosity\u001b[0m\u001b[0;34m=\u001b[0m\u001b[0;32mTrue\u001b[0m\u001b[0;34m)\u001b[0m\u001b[0;34m\u001b[0m\u001b[0;34m\u001b[0m\u001b[0m\n\u001b[0m\u001b[1;32m     57\u001b[0m   \u001b[0mval_accuracies\u001b[0m\u001b[0;34m.\u001b[0m\u001b[0mappend\u001b[0m\u001b[0;34m(\u001b[0m\u001b[0mval_accuracy\u001b[0m\u001b[0;34m)\u001b[0m\u001b[0;34m\u001b[0m\u001b[0;34m\u001b[0m\u001b[0m\n\u001b[1;32m     58\u001b[0m   \u001b[0mval_losses\u001b[0m\u001b[0;34m.\u001b[0m\u001b[0mappend\u001b[0m\u001b[0;34m(\u001b[0m\u001b[0mval_loss\u001b[0m\u001b[0;34m)\u001b[0m\u001b[0;34m\u001b[0m\u001b[0;34m\u001b[0m\u001b[0m\n",
            "\u001b[0;32m<ipython-input-2-c1f67a683b3e>\u001b[0m in \u001b[0;36mtrain_network\u001b[0;34m(net, parameters_to_optimize, learning_rate, num_epochs, batch_size, weight_decay, step_size, gamma, train_dataset, val_dataset, verbosity, plot)\u001b[0m\n\u001b[1;32m     83\u001b[0m \u001b[0;34m\u001b[0m\u001b[0m\n\u001b[1;32m     84\u001b[0m         \u001b[0;32mfor\u001b[0m \u001b[0mimages\u001b[0m\u001b[0;34m,\u001b[0m \u001b[0mlabels\u001b[0m \u001b[0;32min\u001b[0m \u001b[0mtrain_dataloader\u001b[0m\u001b[0;34m:\u001b[0m\u001b[0;34m\u001b[0m\u001b[0;34m\u001b[0m\u001b[0m\n\u001b[0;32m---> 85\u001b[0;31m             \u001b[0mimages\u001b[0m \u001b[0;34m=\u001b[0m \u001b[0mimages\u001b[0m\u001b[0;34m.\u001b[0m\u001b[0mto\u001b[0m\u001b[0;34m(\u001b[0m\u001b[0mDEVICE\u001b[0m\u001b[0;34m)\u001b[0m\u001b[0;34m\u001b[0m\u001b[0;34m\u001b[0m\u001b[0m\n\u001b[0m\u001b[1;32m     86\u001b[0m             \u001b[0mlabels\u001b[0m \u001b[0;34m=\u001b[0m \u001b[0mlabels\u001b[0m\u001b[0;34m.\u001b[0m\u001b[0mto\u001b[0m\u001b[0;34m(\u001b[0m\u001b[0mDEVICE\u001b[0m\u001b[0;34m)\u001b[0m\u001b[0;34m\u001b[0m\u001b[0;34m\u001b[0m\u001b[0m\n\u001b[1;32m     87\u001b[0m             \u001b[0mnet\u001b[0m\u001b[0;34m.\u001b[0m\u001b[0mtrain\u001b[0m\u001b[0;34m(\u001b[0m\u001b[0;34m)\u001b[0m\u001b[0;34m\u001b[0m\u001b[0;34m\u001b[0m\u001b[0m\n",
            "\u001b[0;31mKeyboardInterrupt\u001b[0m: "
          ]
        }
      ]
    },
    {
      "cell_type": "markdown",
      "metadata": {
        "colab_type": "text",
        "id": "S1laZWm8Q0tm"
      },
      "source": [
        "**Testing**"
      ]
    },
    {
      "cell_type": "code",
      "metadata": {
        "colab_type": "code",
        "id": "TKl555WRQ1AF",
        "trusted": false,
        "colab": {}
      },
      "source": [
        "# todo"
      ],
      "execution_count": 0,
      "outputs": []
    },
    {
      "cell_type": "markdown",
      "metadata": {
        "colab_type": "text",
        "id": "jJGI06ylKePa"
      },
      "source": [
        "**Mean / std computation**"
      ]
    },
    {
      "cell_type": "code",
      "metadata": {
        "colab_type": "code",
        "id": "YDJptx12L1OL",
        "trusted": false,
        "colab": {}
      },
      "source": [
        "TRAIN_DATA_DIR = 'AIML_project/ravdess-emotional-song-mel'\n",
        "pixel_mean = np.zeros(3)\n",
        "pixel_std = np.zeros(3)\n",
        "k = 1\n",
        "dataset, _ = get_datasets(TRAIN_DATA_DIR, TRAIN_DATA_DIR, [])\n",
        "for image, _ in tqdm(dataset, \"Computing mean/std\", len(dataset), unit=\"samples\"):\n",
        "    image = np.array(image)\n",
        "    pixels = image.reshape((-1, image.shape[2]))\n",
        "\n",
        "    for pixel in pixels:\n",
        "        diff = pixel - pixel_mean\n",
        "        pixel_mean += diff / k\n",
        "        pixel_std += diff * (pixel - pixel_mean)\n",
        "        k += 1\n",
        "\n",
        "pixel_std = np.sqrt(pixel_std / (k - 2))\n",
        "print(pixel_mean)\n",
        "print(pixel_std)"
      ],
      "execution_count": 0,
      "outputs": []
    }
  ]
}
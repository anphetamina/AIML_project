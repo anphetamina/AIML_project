{
  "nbformat": 4,
  "nbformat_minor": 0,
  "metadata": {
    "colab": {
      "name": "vgg.ipynb",
      "provenance": [],
      "collapsed_sections": []
    },
    "kernelspec": {
      "name": "python3",
      "display_name": "Python 3"
    },
    "accelerator": "GPU"
  },
  "cells": [
    {
      "cell_type": "markdown",
      "metadata": {
        "id": "MbtUcKfE_I4g",
        "colab_type": "text"
      },
      "source": [
        "**Installs**"
      ]
    },
    {
      "cell_type": "code",
      "metadata": {
        "id": "tzg4cO9xLvUG",
        "colab_type": "code",
        "outputId": "bd60267b-5ff1-432b-9d2c-c6d528130861",
        "colab": {
          "base_uri": "https://localhost:8080/",
          "height": 671
        }
      },
      "source": [
        "!pip3 install 'torch==1.3.1'\n",
        "!pip3 install 'torchvision==0.5.0'\n",
        "!pip3 install 'Pillow-SIMD'\n",
        "!pip3 install 'tqdm'"
      ],
      "execution_count": 0,
      "outputs": [
        {
          "output_type": "stream",
          "text": [
            "Requirement already satisfied: torch==1.3.1 in /usr/local/lib/python3.6/dist-packages (1.3.1)\n",
            "Requirement already satisfied: numpy in /usr/local/lib/python3.6/dist-packages (from torch==1.3.1) (1.17.5)\n",
            "Collecting torchvision==0.5.0\n",
            "\u001b[?25l  Downloading https://files.pythonhosted.org/packages/7e/90/6141bf41f5655c78e24f40f710fdd4f8a8aff6c8b7c6f0328240f649bdbe/torchvision-0.5.0-cp36-cp36m-manylinux1_x86_64.whl (4.0MB)\n",
            "\u001b[K     |████████████████████████████████| 4.0MB 4.9MB/s \n",
            "\u001b[?25hRequirement already satisfied: six in /usr/local/lib/python3.6/dist-packages (from torchvision==0.5.0) (1.12.0)\n",
            "Requirement already satisfied: pillow>=4.1.1 in /usr/local/lib/python3.6/dist-packages (from torchvision==0.5.0) (6.2.2)\n",
            "Requirement already satisfied: numpy in /usr/local/lib/python3.6/dist-packages (from torchvision==0.5.0) (1.17.5)\n",
            "Collecting torch==1.4.0\n",
            "\u001b[?25l  Downloading https://files.pythonhosted.org/packages/24/19/4804aea17cd136f1705a5e98a00618cb8f6ccc375ad8bfa437408e09d058/torch-1.4.0-cp36-cp36m-manylinux1_x86_64.whl (753.4MB)\n",
            "\u001b[K     |████████████████████████████████| 753.4MB 20kB/s \n",
            "\u001b[?25hInstalling collected packages: torch, torchvision\n",
            "  Found existing installation: torch 1.3.1\n",
            "    Uninstalling torch-1.3.1:\n",
            "      Successfully uninstalled torch-1.3.1\n",
            "  Found existing installation: torchvision 0.4.2\n",
            "    Uninstalling torchvision-0.4.2:\n",
            "      Successfully uninstalled torchvision-0.4.2\n",
            "Successfully installed torch-1.4.0 torchvision-0.5.0\n",
            "Collecting Pillow-SIMD\n",
            "\u001b[?25l  Downloading https://files.pythonhosted.org/packages/a0/6a/30d21c886293cca3755b8e55de34137a5068b77eba1c0644d3632080516b/Pillow-SIMD-7.0.0.post3.tar.gz (630kB)\n",
            "\u001b[K     |████████████████████████████████| 634kB 4.9MB/s \n",
            "\u001b[?25hBuilding wheels for collected packages: Pillow-SIMD\n",
            "  Building wheel for Pillow-SIMD (setup.py) ... \u001b[?25l\u001b[?25hdone\n",
            "  Created wheel for Pillow-SIMD: filename=Pillow_SIMD-7.0.0.post3-cp36-cp36m-linux_x86_64.whl size=1110406 sha256=e78c851be0e4e30d6deb80b7745a1f0920c7b0f116b43d2e5010f724e144c020\n",
            "  Stored in directory: /root/.cache/pip/wheels/d3/ac/4f/4cdf8febba528e5f1b09fc58d5181e1c12ed1e8655dcd583b8\n",
            "Successfully built Pillow-SIMD\n",
            "Installing collected packages: Pillow-SIMD\n",
            "Successfully installed Pillow-SIMD-7.0.0.post3\n"
          ],
          "name": "stdout"
        },
        {
          "output_type": "display_data",
          "data": {
            "application/vnd.colab-display-data+json": {
              "pip_warning": {
                "packages": [
                  "PIL"
                ]
              }
            }
          },
          "metadata": {
            "tags": []
          }
        },
        {
          "output_type": "stream",
          "text": [
            "Requirement already satisfied: tqdm in /usr/local/lib/python3.6/dist-packages (4.28.1)\n"
          ],
          "name": "stdout"
        }
      ]
    },
    {
      "cell_type": "markdown",
      "metadata": {
        "id": "fxs_3zcG_NZd",
        "colab_type": "text"
      },
      "source": [
        "**Imports**"
      ]
    },
    {
      "cell_type": "code",
      "metadata": {
        "id": "C7N0hU-VLx8W",
        "colab_type": "code",
        "colab": {}
      },
      "source": [
        "import os\n",
        "import logging\n",
        "\n",
        "import torch\n",
        "import torch.nn as nn\n",
        "import torch.optim as optim\n",
        "from torch.utils.data import Subset, DataLoader\n",
        "from torch.backends import cudnn\n",
        "\n",
        "import torchvision\n",
        "from torchvision import transforms\n",
        "from torchvision.models import vgg19\n",
        "from torchvision.models import vgg19_bn\n",
        "from torchvision.models import vgg16\n",
        "from torchvision.models import alexnet\n",
        "\n",
        "from PIL import Image\n",
        "from tqdm import tqdm\n",
        "\n",
        "import numpy as np\n",
        "import matplotlib.pyplot as plt\n",
        "\n",
        "#NUM_CLASSES = 102\n",
        "NUM_CLASSES = 6\n",
        "DEVICE = 'cuda'\n",
        "BATCH_SIZE = 16\n",
        "LR = 0.001\n",
        "MOMENTUM = 0.9\n",
        "WEIGHT_DECAY = 5e-5\n",
        "NUM_EPOCHS = 50\n",
        "STEP_SIZE = 30\n",
        "GAMMA = 0.1"
      ],
      "execution_count": 0,
      "outputs": []
    },
    {
      "cell_type": "markdown",
      "metadata": {
        "id": "uvABcepY_Vfe",
        "colab_type": "text"
      },
      "source": [
        "**Model definition**"
      ]
    },
    {
      "cell_type": "code",
      "metadata": {
        "colab_type": "code",
        "id": "vztVCv3fQXjR",
        "colab": {}
      },
      "source": [
        "def get_datasets(train_data_dir, test_data_dir, compose=[transforms.Resize(224),\n",
        "                                                         transforms.CenterCrop(224),\n",
        "                                                         transforms.ToTensor()#,\n",
        "                                                         #transforms.Normalize((75.29522728, 26.30439561, 70.34910019), (80.67869619, 35.54419227, 54.88938911))\n",
        "                                                         ]):\n",
        "    train_transform = transforms.Compose(compose)\n",
        "    eval_transform = transforms.Compose([\n",
        "          transforms.Resize(224),\n",
        "          transforms.CenterCrop(224),\n",
        "          transforms.ToTensor()#,\n",
        "          #transforms.Normalize((75.29522728, 26.30439561, 70.34910019), (80.67869619, 35.54419227, 54.88938911))\n",
        "          ])\n",
        "\n",
        "    '''\n",
        "    if not os.path.isdir('./Homework2-Caltech101'):\n",
        "        !git clone https://github.com/MachineLearning2020/Homework2-Caltech101.git\n",
        "\n",
        "    '''\n",
        "    if not os.path.isdir('./AIML_project'):\n",
        "        !git clone https://github.com/anphetamina/AIML_project.git\n",
        "    \n",
        "    train_dataset = torchvision.datasets.ImageFolder(train_data_dir, transform=train_transform)\n",
        "    test_dataset = torchvision.datasets.ImageFolder(test_data_dir, transform=eval_transform)\n",
        "\n",
        "    return train_dataset, test_dataset\n",
        "\n",
        "def test_network(net, test_dataset, batch_size):\n",
        "    test_dataloader = DataLoader(test_dataset, batch_size=batch_size, shuffle=False, num_workers=4)\n",
        "    net.train(False)\n",
        "\n",
        "    criterion = nn.CrossEntropyLoss()\n",
        "\n",
        "    sum_test_losses = 0.0\n",
        "    running_corrects = 0\n",
        "    for images, labels in test_dataloader:\n",
        "      images = images.to(DEVICE)\n",
        "      labels = labels.to(DEVICE)\n",
        "\n",
        "      # Forward Pass\n",
        "      outputs = net(images)\n",
        "\n",
        "      # Get predictions\n",
        "      _, preds = torch.max(outputs.data, 1)\n",
        "      test_loss = criterion(outputs, labels)\n",
        "      sum_test_losses += test_loss.item()*images.size(0)\n",
        "\n",
        "      # Update Corrects\n",
        "      running_corrects += torch.sum(preds == labels.data).data.item()\n",
        "\n",
        "    # Calculate Accuracy\n",
        "    accuracy = running_corrects / float(len(test_dataset))\n",
        "\n",
        "    # Calculate loss\n",
        "    test_loss = sum_test_losses / float(len(test_dataset))\n",
        "\n",
        "    return accuracy, test_loss\n",
        "\n",
        "def train_network(net, parameters_to_optimize, learning_rate, num_epochs, batch_size, weight_decay, step_size, gamma, train_dataset, val_dataset=None, verbosity=False, plot=False):\n",
        "  \n",
        "    train_dataloader = DataLoader(train_dataset, batch_size=batch_size, shuffle=True, num_workers=4, drop_last=False)\n",
        "    criterion = nn.CrossEntropyLoss()\n",
        "    optimizer = optim.SGD(parameters_to_optimize, lr=learning_rate, momentum=MOMENTUM, weight_decay=weight_decay)\n",
        "    scheduler = optim.lr_scheduler.StepLR(optimizer, step_size=step_size, gamma=gamma)\n",
        "\n",
        "    net = net.to(DEVICE)\n",
        "    best_net = vgg19()\n",
        "    best_net = best_net.to(DEVICE)\n",
        "    best_net.classifier[6] = nn.Linear(4096, NUM_CLASSES)\n",
        "\n",
        "    cudnn.benchmark\n",
        "\n",
        "    train_accuracies = []\n",
        "    train_losses = []\n",
        "    val_accuracies = []\n",
        "    val_losses = []\n",
        "\n",
        "    current_step = 0\n",
        "    best_val_accuracy = 0.0\n",
        "    best_val_loss = 0.0\n",
        "    for epoch in range(num_epochs):\n",
        "\n",
        "        train_running_corrects = 0\n",
        "        sum_train_losses = 0.0\n",
        "\n",
        "        for images, labels in train_dataloader:\n",
        "            images = images.to(DEVICE)\n",
        "            labels = labels.to(DEVICE)\n",
        "            net.train()\n",
        "            optimizer.zero_grad()\n",
        "\n",
        "            outputs = net(images)\n",
        "            _, preds = torch.max(outputs.data, 1)\n",
        "            train_running_corrects += torch.sum(preds == labels.data).data.item()\n",
        "            loss = criterion(outputs, labels)\n",
        "            sum_train_losses += loss.item()*images.size(0)\n",
        "            loss.backward()\n",
        "\n",
        "            optimizer.step()\n",
        "            current_step += 1\n",
        "        \n",
        "        if val_dataset is not None:\n",
        "            val_accuracy, val_loss = test_network(net, val_dataset, batch_size)\n",
        "            if val_accuracy > best_val_accuracy:\n",
        "                best_val_accuracy = val_accuracy\n",
        "                best_val_loss = val_loss\n",
        "                best_net.load_state_dict(net.state_dict())\n",
        "            val_accuracies.append(val_accuracy)\n",
        "            val_losses.append(val_loss)\n",
        "\n",
        "        # Calculate accuracy on train set\n",
        "        train_accuracy = train_running_corrects / float(len(train_dataset))\n",
        "        train_accuracies.append(train_accuracy)\n",
        "\n",
        "        # Calculate loss on training set\n",
        "        train_loss = sum_train_losses/float(len(train_dataset))\n",
        "        train_losses.append(loss)\n",
        "\n",
        "        if verbosity:\n",
        "            if val_dataset is not None:\n",
        "                print(\"train_acc: {}, val_acc: {}, train_loss: {}, val_loss: {} ({} / {})\".format(train_accuracy, val_accuracy, train_loss, val_loss, epoch+1, num_epochs))\n",
        "            else:\n",
        "                print(\"train_acc: {}, train_loss: {} ({} / {})\".format(train_accuracy, train_loss, epoch+1, num_epochs))\n",
        "\n",
        "        scheduler.step()\n",
        "\n",
        "    if plot:\n",
        "\n",
        "        fig, ax = plt.subplots()\n",
        "        line1, = ax.plot(train_losses, label='Loss on training set')\n",
        "        line2, = ax.plot(train_accuracies, label='Accuracy on training set')\n",
        "        ax.legend()\n",
        "        plt.xlabel(\"Epochs\")\n",
        "        plt.show()\n",
        "\n",
        "        if val_dataset is not None:\n",
        "            fig, ax = plt.subplots()\n",
        "            line1, = ax.plot(val_accuracies, label='Accuracy on validation set', color='C2')\n",
        "            line2, = ax.plot(train_accuracies, label='Accuracy on training set', color='C3')\n",
        "            ax.legend()\n",
        "            plt.xlabel(\"Epochs\")\n",
        "            plt.show()\n",
        "        \n",
        "            fig, ax = plt.subplots()\n",
        "            line1, = ax.plot(val_losses, label='Loss on validation set', color='C1')\n",
        "            line2, = ax.plot(train_losses, label='Loss on training set', color='C7')\n",
        "            ax.legend()\n",
        "            plt.xlabel(\"Epochs\")\n",
        "            plt.show()\n",
        "\n",
        "    \n",
        "    return best_net, best_val_accuracy, best_val_loss\n"
      ],
      "execution_count": 0,
      "outputs": []
    },
    {
      "cell_type": "markdown",
      "metadata": {
        "id": "I6fTm2sD_BOt",
        "colab_type": "text"
      },
      "source": [
        "**Train + validation**"
      ]
    },
    {
      "cell_type": "code",
      "metadata": {
        "id": "XtBXC1cO_A6A",
        "colab_type": "code",
        "colab": {
          "base_uri": "https://localhost:8080/",
          "height": 1000
        },
        "outputId": "8eff2a42-4316-4274-b2c8-68c2035d52e5"
      },
      "source": [
        "TRAIN_DATA_DIR = 'AIML_project/ravdess-emotional-song-mel'\n",
        "#TRAIN_DATA_DIR = 'Homework2-Caltech101/101_ObjectCategories'\n",
        "compose=[transforms.Resize(224),\n",
        "         transforms.CenterCrop(224),\n",
        "         transforms.ColorJitter(brightness=0.5, contrast=0.5),\n",
        "         transforms.ToTensor()#,\n",
        "         #transforms.Normalize((75.29522728, 26.30439561, 70.34910019), (80.67869619, 35.54419227, 54.88938911))\n",
        "         ]\n",
        "train_dataset, val_dataset = get_datasets(TRAIN_DATA_DIR, TRAIN_DATA_DIR, compose)\n",
        "train_indexes = [idx for idx in range(len(train_dataset)) if idx % 5]\n",
        "val_indexes = [idx for idx in range(len(train_dataset)) if not idx % 5]\n",
        "val_dataset = Subset(val_dataset, val_indexes)\n",
        "train_dataset = Subset(train_dataset, train_indexes)\n",
        "print('training set {}'.format(len(train_dataset)))\n",
        "print('validation set {}'.format(len(val_dataset)))\n",
        "\n",
        "net = vgg19()\n",
        "net.classifier[6] = nn.Linear(4096, NUM_CLASSES)\n",
        "best_net, val_accuracy, val_loss = train_network(net, net.parameters(), LR, NUM_EPOCHS, BATCH_SIZE, WEIGHT_DECAY, STEP_SIZE, GAMMA, train_dataset, val_dataset=val_dataset, verbosity=True, plot=True)\n",
        "\n",
        "print('val accuracy {}'.format(val_accuracy))\n",
        "print('val loss {}'.format(val_loss))"
      ],
      "execution_count": 3,
      "outputs": [
        {
          "output_type": "stream",
          "text": [
            "training set 809\n",
            "validation set 203\n",
            "train_acc: 0.17181705809641531, val_acc: 0.18226600985221675, train_loss: 1.787519440810082, val_loss: 1.7727045255341554 (1 / 50)\n",
            "train_acc: 0.18788627935723115, val_acc: 0.18226600985221675, train_loss: 1.7761983450027863, val_loss: 1.7671249764306205 (2 / 50)\n",
            "train_acc: 0.18788627935723115, val_acc: 0.2561576354679803, train_loss: 1.7767840507446024, val_loss: 1.7641111659298976 (3 / 50)\n",
            "train_acc: 0.18665018541409148, val_acc: 0.18226600985221675, train_loss: 1.7740595498397411, val_loss: 1.775755606848618 (4 / 50)\n",
            "train_acc: 0.21013597033374537, val_acc: 0.26108374384236455, train_loss: 1.7702333401101187, val_loss: 1.7618543766989496 (5 / 50)\n",
            "train_acc: 0.1915945611866502, val_acc: 0.24630541871921183, train_loss: 1.7710950336291262, val_loss: 1.7626129330085416 (6 / 50)\n",
            "train_acc: 0.20395550061804696, val_acc: 0.21182266009852216, train_loss: 1.7616908264395923, val_loss: 1.757982128946652 (7 / 50)\n",
            "train_acc: 0.2126081582200247, val_acc: 0.2315270935960591, train_loss: 1.7687866064467743, val_loss: 1.7567759728784045 (8 / 50)\n",
            "train_acc: 0.20519159456118666, val_acc: 0.33004926108374383, train_loss: 1.7676529947700548, val_loss: 1.7541464185479827 (9 / 50)\n",
            "train_acc: 0.20024721878862795, val_acc: 0.27586206896551724, train_loss: 1.7592080208220795, val_loss: 1.7524876741352926 (10 / 50)\n",
            "train_acc: 0.22991347342398022, val_acc: 0.33004926108374383, train_loss: 1.7601415515682752, val_loss: 1.7421575109359666 (11 / 50)\n",
            "train_acc: 0.22126081582200247, val_acc: 0.3399014778325123, train_loss: 1.747361388283106, val_loss: 1.7280282187344405 (12 / 50)\n",
            "train_acc: 0.24969097651421507, val_acc: 0.35960591133004927, train_loss: 1.7397452918501808, val_loss: 1.6750761887122845 (13 / 50)\n",
            "train_acc: 0.27935723114956734, val_acc: 0.23645320197044334, train_loss: 1.6985744587128477, val_loss: 1.7088320431450905 (14 / 50)\n",
            "train_acc: 0.3263288009888752, val_acc: 0.29064039408866993, train_loss: 1.6486175639372969, val_loss: 1.609020071957499 (15 / 50)\n",
            "train_acc: 0.2484548825710754, val_acc: 0.2857142857142857, train_loss: 1.7630354647878075, val_loss: 1.7100233649972625 (16 / 50)\n",
            "train_acc: 0.27441285537700866, val_acc: 0.27586206896551724, train_loss: 1.694164457515674, val_loss: 1.6556388844410186 (17 / 50)\n",
            "train_acc: 0.30902348578491967, val_acc: 0.3448275862068966, train_loss: 1.6146968407153495, val_loss: 1.507316685075243 (18 / 50)\n",
            "train_acc: 0.3362175525339926, val_acc: 0.35960591133004927, train_loss: 1.5588856717417354, val_loss: 1.4851938785590562 (19 / 50)\n",
            "train_acc: 0.37082818294190356, val_acc: 0.33004926108374383, train_loss: 1.5332480025085147, val_loss: 1.4704386148546718 (20 / 50)\n",
            "train_acc: 0.3930778739184178, val_acc: 0.43842364532019706, train_loss: 1.4424038586127301, val_loss: 1.452248542766853 (21 / 50)\n",
            "train_acc: 0.3943139678615575, val_acc: 0.3694581280788177, train_loss: 1.441367410611458, val_loss: 1.549924676641455 (22 / 50)\n",
            "train_acc: 0.4103831891223733, val_acc: 0.43349753694581283, train_loss: 1.4423457423895045, val_loss: 1.3480773306832525 (23 / 50)\n",
            "train_acc: 0.4326328800988875, val_acc: 0.39901477832512317, train_loss: 1.3663257596224583, val_loss: 1.3275224299266422 (24 / 50)\n",
            "train_acc: 0.4388133498145859, val_acc: 0.4433497536945813, train_loss: 1.3523562963872375, val_loss: 1.3064831442433624 (25 / 50)\n",
            "train_acc: 0.46600741656365885, val_acc: 0.5320197044334976, train_loss: 1.2873427770635844, val_loss: 1.1908322842837555 (26 / 50)\n",
            "train_acc: 0.47095179233621753, val_acc: 0.5221674876847291, train_loss: 1.2838305077240406, val_loss: 1.1975890057427543 (27 / 50)\n",
            "train_acc: 0.49938195302843014, val_acc: 0.4827586206896552, train_loss: 1.2596637639775412, val_loss: 1.1890651715800094 (28 / 50)\n",
            "train_acc: 0.4820766378244747, val_acc: 0.4975369458128079, train_loss: 1.224816361964854, val_loss: 1.1892779155317785 (29 / 50)\n",
            "train_acc: 0.5253399258343634, val_acc: 0.4482758620689655, train_loss: 1.1822236500063403, val_loss: 1.3140203600446578 (30 / 50)\n",
            "train_acc: 0.5574783683559951, val_acc: 0.5763546798029556, train_loss: 1.0918629101681325, val_loss: 1.0486082138099106 (31 / 50)\n",
            "train_acc: 0.61557478368356, val_acc: 0.6009852216748769, train_loss: 0.979559756032616, val_loss: 1.0091021583585316 (32 / 50)\n",
            "train_acc: 0.6328800988875154, val_acc: 0.625615763546798, train_loss: 0.9627401124414319, val_loss: 0.9665804537646289 (33 / 50)\n",
            "train_acc: 0.6477132262051916, val_acc: 0.6600985221674877, train_loss: 0.8962154458420828, val_loss: 0.9701227284417364 (34 / 50)\n",
            "train_acc: 0.6662546353522868, val_acc: 0.645320197044335, train_loss: 0.8794857190624893, val_loss: 0.9300835179577908 (35 / 50)\n",
            "train_acc: 0.6699629171817059, val_acc: 0.6551724137931034, train_loss: 0.864817234361717, val_loss: 0.9652250476658638 (36 / 50)\n",
            "train_acc: 0.6613102595797281, val_acc: 0.6798029556650246, train_loss: 0.8427381357834277, val_loss: 0.9028729822835312 (37 / 50)\n",
            "train_acc: 0.6749072929542645, val_acc: 0.6600985221674877, train_loss: 0.7862886503541425, val_loss: 0.8790609087850073 (38 / 50)\n",
            "train_acc: 0.7021013597033374, val_acc: 0.6798029556650246, train_loss: 0.7861640587430655, val_loss: 0.8717543503333782 (39 / 50)\n",
            "train_acc: 0.7379480840543882, val_acc: 0.6748768472906403, train_loss: 0.714137647149, val_loss: 0.8973404785682415 (40 / 50)\n",
            "train_acc: 0.7503090234857849, val_acc: 0.6847290640394089, train_loss: 0.7133247278382073, val_loss: 0.8551116899903772 (41 / 50)\n",
            "train_acc: 0.7292954264524104, val_acc: 0.6748768472906403, train_loss: 0.7008503174826005, val_loss: 0.8521534048864994 (42 / 50)\n",
            "train_acc: 0.73053152039555, val_acc: 0.6945812807881774, train_loss: 0.6698132464558586, val_loss: 0.8244699680159244 (43 / 50)\n",
            "train_acc: 0.761433868974042, val_acc: 0.7044334975369458, train_loss: 0.6219247532421344, val_loss: 0.8223223204683201 (44 / 50)\n",
            "train_acc: 0.7948084054388134, val_acc: 0.7192118226600985, train_loss: 0.5841196354004302, val_loss: 0.7658695546277051 (45 / 50)\n",
            "train_acc: 0.788627935723115, val_acc: 0.7142857142857143, train_loss: 0.5635404803402196, val_loss: 0.7682735749653408 (46 / 50)\n",
            "train_acc: 0.8059332509270705, val_acc: 0.7389162561576355, train_loss: 0.5428830245221943, val_loss: 0.757863159543775 (47 / 50)\n",
            "train_acc: 0.7737948084054388, val_acc: 0.7339901477832512, train_loss: 0.5573660537361067, val_loss: 0.7576109223765105 (48 / 50)\n",
            "train_acc: 0.8343634116192831, val_acc: 0.7586206896551724, train_loss: 0.4920030896021203, val_loss: 0.7703174734350495 (49 / 50)\n",
            "train_acc: 0.8281829419035847, val_acc: 0.7339901477832512, train_loss: 0.4782192335729988, val_loss: 0.8253758170921814 (50 / 50)\n"
          ],
          "name": "stdout"
        },
        {
          "output_type": "display_data",
          "data": {
            "image/png": "[encoded data removed]",
            "text/plain": [
              "<Figure size 432x288 with 1 Axes>"
            ]
          },
          "metadata": {
            "tags": []
          }
        },
        {
          "output_type": "display_data",
          "data": {
            "image/png": "[encoded data removed]",
            "text/plain": [
              "<Figure size 432x288 with 1 Axes>"
            ]
          },
          "metadata": {
            "tags": []
          }
        },
        {
          "output_type": "display_data",
          "data": {
            "image/png": "[encoded data removed]",
            "text/plain": [
              "<Figure size 432x288 with 1 Axes>"
            ]
          },
          "metadata": {
            "tags": []
          }
        },
        {
          "output_type": "stream",
          "text": [
            "val accuracy 0.7586206896551724\n",
            "val loss 0.7703174734350495\n"
          ],
          "name": "stdout"
        }
      ]
    },
    {
      "cell_type": "markdown",
      "metadata": {
        "id": "1kgj76dvQxIJ",
        "colab_type": "text"
      },
      "source": [
        "**Testing**"
      ]
    },
    {
      "cell_type": "code",
      "metadata": {
        "id": "_dKdDvgnQw7d",
        "colab_type": "code",
        "colab": {}
      },
      "source": [
        "# todo"
      ],
      "execution_count": 0,
      "outputs": []
    },
    {
      "cell_type": "markdown",
      "metadata": {
        "id": "qxj7-SlSKb_3",
        "colab_type": "text"
      },
      "source": [
        "**Grid search**"
      ]
    },
    {
      "cell_type": "code",
      "metadata": {
        "id": "aPmSObkPKbu3",
        "colab_type": "code",
        "colab": {}
      },
      "source": [
        "NUM_CLASSES = 6\n",
        "DEVICE = 'cuda'\n",
        "MOMENTUM = 0.9\n",
        "NUM_EPOCHS = 100\n",
        "STEP_SIZE = 60\n",
        "\n",
        "lr_range = [0.001, 0.01, 0.05, 0.1]\n",
        "batch_size_range = [16, 32]\n",
        "weight_decay_range = [1e-5, 1e-2]\n",
        "gamma_range = [0.01, 0.1]\n",
        "hyperparameters_sets = []\n",
        "\n",
        "for lr in lr_range:\n",
        "  for batch_size in batch_size_range:\n",
        "    for weight_decay in weight_decay_range:\n",
        "      for gamma in gamma_range:\n",
        "        hyperparameters_sets.append({'lr': lr, 'batch_size': batch_size, 'weight_decay': weight_decay, 'gamma': gamma})\n",
        "\n",
        "for set in hyperparameters_sets:\n",
        "  print(set)\n",
        "\n",
        "\n",
        "TRAIN_DATA_DIR = 'AIML_project/ravdess-emotional-song-mel'\n",
        "compose=[transforms.Resize(224),\n",
        "         transforms.CenterCrop(224),\n",
        "         transforms.ColorJitter(brightness=0.5, contrast=0.5),\n",
        "         transforms.ToTensor(),\n",
        "         transforms.Normalize((75.29522728, 26.30439561, 70.34910019), (80.67869619, 35.54419227, 54.88938911))\n",
        "         ]\n",
        "train_dataset, val_dataset = get_datasets(TRAIN_DATA_DIR, TRAIN_DATA_DIR, compose)\n",
        "\n",
        "train_indexes = [idx for idx in range(len(train_dataset)) if idx % 5]\n",
        "val_indexes = [idx for idx in range(len(train_dataset)) if not idx % 5]\n",
        "val_dataset = Subset(val_dataset, val_indexes)\n",
        "train_dataset = Subset(train_dataset, train_indexes)\n",
        "print('training set {}'.format(len(train_dataset)))\n",
        "print('validation set {}'.format(len(val_dataset)))\n",
        "\n",
        "best_net = vgg19_bn()\n",
        "best_net = best_net.to(DEVICE)\n",
        "best_net.classifier[6] = nn.Linear(4096, NUM_CLASSES)\n",
        "best_set = {}\n",
        "best_accuracy = 0.0\n",
        "best_loss = 0.0\n",
        "val_accuracies = []\n",
        "val_losses = []\n",
        "\n",
        "for set in hyperparameters_sets:\n",
        "\n",
        "  net = vgg19()\n",
        "  current_net, val_accuracy, val_loss = train_network(net, net.parameters(), set['lr'], NUM_EPOCHS, set['batch_size'], set['weight_decay'], STEP_SIZE, set['gamma'], train_dataset, val_dataset=val_dataset)\n",
        "  val_accuracies.append(val_accuracy)\n",
        "  val_losses.append(val_loss)\n",
        "\n",
        "  if val_accuracy > best_accuracy:\n",
        "    best_accuracy = val_accuracy\n",
        "    best_loss = val_loss\n",
        "    best_net = copy.deepcopy(current_net)\n",
        "    best_set = copy.deepcopy(set)\n",
        "  \n",
        "  print(\"({}), val accuracy {}, val loss {}\".format(set, val_accuracy, val_loss))\n",
        "\n",
        "print(\"\\n({}), best val accuracy {}, best val loss {}\".format(best_set, best_accuracy, best_loss))\n",
        "print(\"\\nval_accuracies\")\n",
        "print(val_accuracies)"
      ],
      "execution_count": 0,
      "outputs": []
    },
    {
      "cell_type": "markdown",
      "metadata": {
        "id": "S1laZWm8Q0tm",
        "colab_type": "text"
      },
      "source": [
        "**Testing**"
      ]
    },
    {
      "cell_type": "code",
      "metadata": {
        "id": "TKl555WRQ1AF",
        "colab_type": "code",
        "colab": {}
      },
      "source": [
        "# todo"
      ],
      "execution_count": 0,
      "outputs": []
    },
    {
      "cell_type": "markdown",
      "metadata": {
        "id": "jJGI06ylKePa",
        "colab_type": "text"
      },
      "source": [
        "**Mean / std computation**"
      ]
    },
    {
      "cell_type": "code",
      "metadata": {
        "id": "YDJptx12L1OL",
        "colab_type": "code",
        "colab": {
          "base_uri": "https://localhost:8080/",
          "height": 71
        },
        "outputId": "c59e12bc-93f0-4450-8ade-b176122bb1bb"
      },
      "source": [
        "TRAIN_DATA_DIR = 'AIML_project/ravdess-emotional-song-mel'\n",
        "pixel_mean = np.zeros(3)\n",
        "pixel_std = np.zeros(3)\n",
        "k = 1\n",
        "dataset, _ = get_datasets(TRAIN_DATA_DIR, TRAIN_DATA_DIR, [])\n",
        "for image, _ in tqdm(dataset, \"Computing mean/std\", len(dataset), unit=\"samples\"):\n",
        "    image = np.array(image)\n",
        "    pixels = image.reshape((-1, image.shape[2]))\n",
        "\n",
        "    for pixel in pixels:\n",
        "        diff = pixel - pixel_mean\n",
        "        pixel_mean += diff / k\n",
        "        pixel_std += diff * (pixel - pixel_mean)\n",
        "        k += 1\n",
        "\n",
        "pixel_std = np.sqrt(pixel_std / (k - 2))\n",
        "print(pixel_mean)\n",
        "print(pixel_std)"
      ],
      "execution_count": 10,
      "outputs": [
        {
          "output_type": "stream",
          "text": [
            "Computing mean/std: 100%|██████████| 1012/1012 [1:35:59<00:00,  5.87s/samples]"
          ],
          "name": "stderr"
        },
        {
          "output_type": "stream",
          "text": [
            "[75.29522728 26.30439561 70.34910019]\n",
            "[80.67869619 35.54419227 54.88938911]\n"
          ],
          "name": "stdout"
        },
        {
          "output_type": "stream",
          "text": [
            "\n"
          ],
          "name": "stderr"
        }
      ]
    }
  ]
}